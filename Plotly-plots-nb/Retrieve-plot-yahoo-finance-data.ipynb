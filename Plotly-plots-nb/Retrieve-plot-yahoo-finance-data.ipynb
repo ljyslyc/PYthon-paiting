{
 "cells": [
  {
   "cell_type": "markdown",
   "metadata": {},
   "source": [
    "## Plotly Plots of Stock Price Data Retrieved by Pandas from  Yahoo! Finance  ##"
   ]
  },
  {
   "cell_type": "markdown",
   "metadata": {},
   "source": [
    "In this Jupyter (IPython) Notebook we illustrate the evolution of 8 stock market indices (4 from USA and 4 from Asia) over the period  from August 7 to August 26, 2015.  Data are accessed and retrieved from [Yahoo! Finance](http://finance.yahoo.com/stock-center/), with  `pandas.io.data.DataReader` function (pandas 0.16.2)."
   ]
  },
  {
   "cell_type": "code",
   "execution_count": 1,
   "metadata": {
    "collapsed": false
   },
   "outputs": [],
   "source": [
    "from datetime import datetime\n",
    "import numpy as np\n",
    "import pandas as pd\n",
    "from pandas.io.data import DataReader"
   ]
  },
  {
   "cell_type": "code",
   "execution_count": 2,
   "metadata": {
    "collapsed": false
   },
   "outputs": [
    {
     "name": "stdout",
     "output_type": "stream",
     "text": [
      "            000001.SS          ^DJI        ^GSPC          ^HSI         ^N225  \\\n",
      "Date                                                                           \n",
      "2015-08-07    3744.21  17373.380859  2077.570068  24552.470703  20724.560547   \n",
      "2015-08-10    3928.42  17615.169922  2104.179932  24521.119141  20808.689453   \n",
      "2015-08-11    3927.91  17402.839844  2084.070068  24498.210938  20720.750000   \n",
      "2015-08-12    3886.32  17402.509766  2086.050049  23916.019531  20392.769531   \n",
      "2015-08-13    3954.56  17408.250000  2083.389893  24018.800781  20595.550781   \n",
      "2015-08-14    3965.33  17477.400391  2091.540039  23991.029297  20519.449219   \n",
      "2015-08-17        NaN  17545.179688  2102.439941  23814.650391  20620.259766   \n",
      "2015-08-18    3748.16  17511.339844  2096.919922  23474.970703  20554.470703   \n",
      "2015-08-19    3794.11  17348.730469  2079.610107  23167.849609  20222.630859   \n",
      "2015-08-20    3664.29  16990.689453  2035.729980  22757.470703  20033.519531   \n",
      "2015-08-21    3507.74  16459.750000  1970.890015  22409.619141  19435.830078   \n",
      "2015-08-24    3209.91  15871.349609  1893.209961  21251.570312  18540.679688   \n",
      "2015-08-25    2964.97  15666.440430  1867.609985  21404.960938  17806.699219   \n",
      "2015-08-26    2927.29  16285.509766  1940.510010  21080.390625  18376.830078   \n",
      "\n",
      "                   ^NDX          ^NYA         ^STI  \n",
      "Date                                                \n",
      "2015-08-07  4520.080078  10763.150391          NaN  \n",
      "2015-08-10  4573.109863  10906.049805          NaN  \n",
      "2015-08-11  4513.990234  10802.089844  3153.060059  \n",
      "2015-08-12  4528.189941  10779.459961  3061.489990  \n",
      "2015-08-13  4519.319824  10745.309570  3091.780029  \n",
      "2015-08-14  4530.740234  10782.240234  3114.250000  \n",
      "2015-08-17  4566.370117  10818.570312  3067.350098  \n",
      "2015-08-18  4542.069824  10792.799805  3049.649902  \n",
      "2015-08-19  4510.899902  10687.019531  3041.250000  \n",
      "2015-08-20  4385.129883  10475.740234  3009.780029  \n",
      "2015-08-21  4197.270020  10195.690430  2971.010010  \n",
      "2015-08-24  4038.600098   9789.940430  2843.389893  \n",
      "2015-08-25  4016.320068   9692.379883  2886.290039  \n",
      "2015-08-26  4219.600098   9979.669922  2873.000000  \n"
     ]
    }
   ],
   "source": [
    "index_symbol = ['^GSPC', '^DJI','^NDX', '^NYA', '000001.SS', '^N225','^HSI', '^STI' ]\n",
    "explicit_name=['S&P 500', 'DOW JONES', 'NASDAQ', 'NYSE', 'SHANGHAI', 'NIKKEI', 'HKSE', 'SES']\n",
    "\n",
    "d = {}\n",
    "for symb in index_symbol:\n",
    "    d[symb] = DataReader(symb, \"yahoo\", start=datetime( 2015, 8, 7 ), end=datetime( 2015, 8, 26 ))\n",
    "panel = pd.Panel(d)# Panel of data\n",
    "df = panel.minor_xs('Adj Close') #df is a dataframe containing adjusted closing price for each index\n",
    "print df\n"
   ]
  },
  {
   "cell_type": "markdown",
   "metadata": {},
   "source": [
    "For each index we generate a Plotly `Scatter` plot displayed into a subplot:"
   ]
  },
  {
   "cell_type": "code",
   "execution_count": 3,
   "metadata": {
    "collapsed": true
   },
   "outputs": [],
   "source": [
    "import plotly.plotly as py\n",
    "import plotly.tools as tls\n",
    "from plotly.graph_objs import *"
   ]
  },
  {
   "cell_type": "code",
   "execution_count": 4,
   "metadata": {
    "collapsed": false
   },
   "outputs": [
    {
     "name": "stdout",
     "output_type": "stream",
     "text": [
      "This is the format of your plot grid:\n",
      "[ (1,1) x1,y1 ]  [ (1,2) x2,y2 ]\n",
      "[ (2,1) x3,y3 ]  [ (2,2) x4,y4 ]\n",
      "[ (3,1) x5,y5 ]  [ (3,2) x6,y6 ]\n",
      "[ (4,1) x7,y7 ]  [ (4,2) x8,y8 ]\n",
      "\n"
     ]
    }
   ],
   "source": [
    "fig = tls.make_subplots(\n",
    "    rows=4,\n",
    "    cols=2,\n",
    "    shared_xaxes=False,\n",
    "    subplot_titles=('S&P 500', 'SHANGHAI',  'DOW JONES', 'NIKKEI', 'NASDAQ','HKSE', 'NYSE', 'SES')\n",
    ")"
   ]
  },
  {
   "cell_type": "markdown",
   "metadata": {},
   "source": [
    "`tls.make_subplots` defines an object `Figure` with 8 subplots, and  makes default subplot annotations. The annotations for the third subplot   are retrieved as follows:"
   ]
  },
  {
   "cell_type": "code",
   "execution_count": 5,
   "metadata": {
    "collapsed": false
   },
   "outputs": [
    {
     "data": {
      "text/plain": [
       "{'font': {'size': 16},\n",
       " 'showarrow': False,\n",
       " 'text': 'DOW JONES',\n",
       " 'x': 0.225,\n",
       " 'xanchor': 'center',\n",
       " 'xref': 'paper',\n",
       " 'y': 0.71875,\n",
       " 'yanchor': 'bottom',\n",
       " 'yref': 'paper'}"
      ]
     },
     "execution_count": 5,
     "metadata": {},
     "output_type": "execute_result"
    }
   ],
   "source": [
    "fig['layout']['annotations'][2]"
   ]
  },
  {
   "cell_type": "markdown",
   "metadata": {},
   "source": [
    "!!!! We have to avoid overwriting these annotations with fig['layout']['annotations'] = Annotations(...). We can  make updates instead."
   ]
  },
  {
   "cell_type": "markdown",
   "metadata": {},
   "source": [
    "Update  figure  with collected data: "
   ]
  },
  {
   "cell_type": "code",
   "execution_count": 6,
   "metadata": {
    "collapsed": true
   },
   "outputs": [],
   "source": [
    "def make_trace(y, sbplt):# this function creates the trace for each subplot\n",
    "    # y stock index value\n",
    "    # stock index name\n",
    "    # sbplt - subplot\n",
    "    return Scatter(\n",
    "        x=df.index,  \n",
    "        y=y,            \n",
    "        name='',     \n",
    "        \n",
    "        line=Line(\n",
    "        color= '#2c7fb8',\n",
    "        width=0.75\n",
    "    ),\n",
    "         \n",
    "        xaxis='x{}'.format(sbplt),                    \n",
    "        yaxis='y{}'.format(sbplt)     \n",
    "    )"
   ]
  },
  {
   "cell_type": "code",
   "execution_count": 7,
   "metadata": {
    "collapsed": false
   },
   "outputs": [],
   "source": [
    "sbplt=1\n",
    "for symb in index_symbol[:4]: #make traces for left subplots (first column)\n",
    "    fig['data'] +=[make_trace(df[symb], sbplt)]\n",
    "    sbplt+=2              \n",
    "sbplt=2\n",
    "\n",
    "for symb in  index_symbol[4:]: #make traces for the second  column\n",
    "    fig['data']+=[make_trace(df[symb], sbplt)]\n",
    "    sbplt+=2              "
   ]
  },
  {
   "cell_type": "markdown",
   "metadata": {},
   "source": [
    "Layout settings:"
   ]
  },
  {
   "cell_type": "code",
   "execution_count": 8,
   "metadata": {
    "collapsed": true
   },
   "outputs": [],
   "source": [
    "axis_style = dict(\n",
    "    zeroline=False,     \n",
    "    showgrid=True, \n",
    "    gridwidth=1,\n",
    "    gridcolor='#FFFFFF')  "
   ]
  },
  {
   "cell_type": "code",
   "execution_count": 9,
   "metadata": {
    "collapsed": true
   },
   "outputs": [],
   "source": [
    "def make_XAxis():\n",
    "    xaxis = XAxis(zeroline=False,  \n",
    "                  nticks=4,\n",
    "                 )   \n",
    "    return xaxis\n",
    "\n",
    "\n",
    "def make_YAxis():\n",
    "    yaxis = YAxis()  \n",
    "    yaxis.update(axis_style)                     \n",
    "    return yaxis"
   ]
  },
  {
   "cell_type": "markdown",
   "metadata": {},
   "source": [
    "Update layout:"
   ]
  },
  {
   "cell_type": "code",
   "execution_count": 10,
   "metadata": {
    "collapsed": false
   },
   "outputs": [],
   "source": [
    "title = 'Stock market indices (left USA, right ASIA)'\n",
    "fig['layout'].update(title=title,                                 \n",
    "                     font= Font(size=12))  \n",
    "                    "
   ]
  },
  {
   "cell_type": "code",
   "execution_count": 11,
   "metadata": {
    "collapsed": true
   },
   "outputs": [],
   "source": [
    "fig['layout'].update(\n",
    "    showlegend=False, \n",
    "    hovermode='closest',\n",
    "    autosize=False,   \n",
    "    height=800,       \n",
    "    width=700,       \n",
    "    margin=Margin(\n",
    "        t=100,    \n",
    "        b=100,     \n",
    "        r=25,      \n",
    "        l=70       \n",
    "    ),\n",
    "    plot_bgcolor='#EFECEA',  \n",
    "    \n",
    ")"
   ]
  },
  {
   "cell_type": "code",
   "execution_count": 12,
   "metadata": {
    "collapsed": false
   },
   "outputs": [],
   "source": [
    "subpts=range(1,9)# list of subplots, "
   ]
  },
  {
   "cell_type": "code",
   "execution_count": 13,
   "metadata": {
    "collapsed": false
   },
   "outputs": [],
   "source": [
    "for sbplt in subpts:\n",
    "    fig['layout'].update({'xaxis{}'.format(sbplt): make_XAxis()})\n",
    "    fig['layout'].update({'yaxis{}'.format(sbplt): make_YAxis()})\n"
   ]
  },
  {
   "cell_type": "code",
   "execution_count": 14,
   "metadata": {
    "collapsed": false
   },
   "outputs": [],
   "source": [
    "anno_text=\"Data source:\\\n",
    "<a href='http://finance.yahoo.com/stock-center/'> [1]</a>. \\\n",
    "Access via <a href='http://pandas.pydata.org/pandas-docs/stable/remote_data.html'> [2] </a>\"\n",
    "\n",
    "fig['layout']['annotations']+=[\n",
    "    Annotation(\n",
    "            showarrow=False, \n",
    "            text=anno_text,  \n",
    "            xref='paper',     \n",
    "            yref='paper',     \n",
    "            x=0,  \n",
    "            y=-0.15,  \n",
    "            xanchor='left',   \n",
    "            yanchor='bottom',  \n",
    "            font=Font(\n",
    "            size=11 )\n",
    "            )\n",
    "] \n",
    "for sbplt in subpts: #change the default font size for  subplots title\n",
    "    fig['layout']['annotations'][sbplt-1]['font']= {'size': 12}"
   ]
  },
  {
   "cell_type": "code",
   "execution_count": 15,
   "metadata": {
    "collapsed": false
   },
   "outputs": [
    {
     "data": {
      "text/plain": [
       "{'font': {'size': 12},\n",
       " 'showarrow': False,\n",
       " 'text': 'S&P 500',\n",
       " 'x': 0.225,\n",
       " 'xanchor': 'center',\n",
       " 'xref': 'paper',\n",
       " 'y': 1.0,\n",
       " 'yanchor': 'bottom',\n",
       " 'yref': 'paper'}"
      ]
     },
     "execution_count": 15,
     "metadata": {},
     "output_type": "execute_result"
    }
   ],
   "source": [
    " fig['layout']['annotations'][0]# check the update"
   ]
  },
  {
   "cell_type": "code",
   "execution_count": 16,
   "metadata": {
    "collapsed": false
   },
   "outputs": [
    {
     "data": {
      "text/html": [
       "<iframe id=\"igraph\" scrolling=\"no\" style=\"border:none;\"seamless=\"seamless\" src=\"https://plot.ly/~empet/3565.embed\" height=\"800px\" width=\"700px\"></iframe>"
      ],
      "text/plain": [
       "<plotly.tools.PlotlyDisplay object>"
      ]
     },
     "execution_count": 16,
     "metadata": {},
     "output_type": "execute_result"
    }
   ],
   "source": [
    "py.sign_in(\"empet\", \"my_api_key\")\n",
    "py.iplot(fig, filename='stock-indices-7-26') "
   ]
  },
  {
   "cell_type": "code",
   "execution_count": 17,
   "metadata": {
    "collapsed": false
   },
   "outputs": [
    {
     "data": {
      "text/html": [
       "<style>\n",
       "    /*body {\n",
       "        background-color: #F5F5F5;\n",
       "    }*/\n",
       "    div.cell{\n",
       "        width: 900px;\n",
       "        margin-left: 13% !important;\n",
       "        margin-right: auto;\n",
       "    }\n",
       "    #notebook li { /* More space between bullet points */\n",
       "    margin-top:0.8em;\n",
       "    }\n",
       "\n",
       "    h1 {\n",
       "        font-family: 'Alegreya Sans', sans-serif;\n",
       "    }\n",
       "    .text_cell_render h1 {\n",
       "        font-weight: 200;\n",
       "        font-size: 40pt;\n",
       "        line-height: 100%;\n",
       "        color: rgb(8, 66, 133);\n",
       "        margin-bottom: 0em;\n",
       "        margin-top: 0em;\n",
       "        display: block;\n",
       "    }\n",
       "    h2 {\n",
       "        font-family: 'Fenix', serif;\n",
       "        text-indent:1em;\n",
       "        text-align:center;\n",
       "    }\n",
       "    .text_cell_render h2 {\n",
       "        font-weight: 200;\n",
       "        font-size: 28pt;\n",
       "        line-height: 100%;\n",
       "        color: rgb(8, 66, 133);\n",
       "        margin-bottom: 1.5em;\n",
       "        margin-top: 0.5em;\n",
       "        display: block;\n",
       "    }\n",
       "    h3 {\n",
       "        font-family: 'Fenix', serif;\n",
       "        %margin-top:12px;\n",
       "        %margin-bottom: 3px;\n",
       "    }\n",
       "    .text_cell_render h3 {\n",
       "        font-weight: 300;\n",
       "        font-size: 18pt;\n",
       "        line-height: 100%;\n",
       "        color: rgb(8, 66, 133);\n",
       "        margin-bottom: 0.5em;\n",
       "        margin-top: 2em;\n",
       "        display: block;\n",
       "    }\n",
       "    h4 {\n",
       "        font-family: 'Fenix', serif;\n",
       "    }\n",
       "    .text_cell_render h4 {\n",
       "        font-weight: 300;\n",
       "        font-size: 16pt;\n",
       "        color: rgb(8, 66, 133);\n",
       "        margin-bottom: 0.5em;\n",
       "        margin-top: 0.5em;\n",
       "        display: block;\n",
       "    }\n",
       "    h5 {\n",
       "        font-family: 'Alegreya Sans', sans-serif;\n",
       "    }\n",
       "    .text_cell_render h5 {\n",
       "        font-weight: 300;\n",
       "        font-style: normal;\n",
       "        font-size: 16pt;\n",
       "        margin-bottom: 0em;\n",
       "        margin-top: 1.5em;\n",
       "        display: block;\n",
       "        }\n",
       "    div.text_cell_render{\n",
       "        font-family: 'Alegreya Sans',Computer Modern, \"Helvetica Neue\", Arial, Helvetica, Geneva, sans-serif;\n",
       "        line-height: 145%;\n",
       "        font-size: 130%;\n",
       "        width:900px;\n",
       "        margin-left:auto;\n",
       "        margin-right:auto;\n",
       "        %text-align:justify;\n",
       "        %text-justify:inter-word;\n",
       "    }\n",
       "    \n",
       "    \n",
       "    code{\n",
       "      font-size: 78%;\n",
       "    }\n",
       "    .rendered_html code{\n",
       "        background-color: transparent;\n",
       "        white-space: inherit;   \n",
       "    }\n",
       "    .prompt{\n",
       "        display: None;\n",
       "     }\n",
       "    .rendered_html code{\n",
       "    background-color: transparent;\n",
       "    }\n",
       "\n",
       "    blockquote{\n",
       "      display:block;\n",
       "      background: #f3f3f3;\n",
       "      font-family: \"Open sans\",verdana,arial,sans-serif;\n",
       "      width:610px;\n",
       "      padding: 15px 15px 15px 15px;\n",
       "      text-align:justify;\n",
       "      text-justify:inter-word;\n",
       "      }\n",
       "      blockquote p {\n",
       "        margin-bottom: 0;\n",
       "        line-height: 125%;\n",
       "        font-size: 100%;\n",
       "      }\n",
       "   /* element.style {\n",
       "    } */\n",
       "</style>\n",
       "<script>\n",
       "    MathJax.Hub.Config({\n",
       "                        TeX: {\n",
       "                           extensions: [\"AMSmath.js\"]\n",
       "                           },\n",
       "                tex2jax: {\n",
       "                    inlineMath: [ [\"$\",\"$\"], [\"\\\\(\",\"\\\\)\"] ],\n",
       "                    displayMath: [ [\"$$\",\"$$\"], [\"\\\\[\",\"\\\\]\"] ]\n",
       "                },\n",
       "                displayAlign: \"center\", // Change this to \"center\" to center equations.\n",
       "                \"HTML-CSS\": {\n",
       "                    styles: {\".MathJax_Display\": {\"margin\": 4}}\n",
       "                }\n",
       "        });\n",
       "</script>\n"
      ],
      "text/plain": [
       "<IPython.core.display.HTML object>"
      ]
     },
     "execution_count": 17,
     "metadata": {},
     "output_type": "execute_result"
    }
   ],
   "source": [
    "from IPython.core.display import HTML\n",
    "def  css_styling():\n",
    "    styles = open(\"./custom.css\", \"r\").read()\n",
    "    return HTML(styles)\n",
    "css_styling()"
   ]
  }
 ],
 "metadata": {
  "kernelspec": {
   "display_name": "Python 2",
   "language": "python",
   "name": "python2"
  },
  "language_info": {
   "codemirror_mode": {
    "name": "ipython",
    "version": 2
   },
   "file_extension": ".py",
   "mimetype": "text/x-python",
   "name": "python",
   "nbconvert_exporter": "python",
   "pygments_lexer": "ipython2",
   "version": "2.7.9"
  }
 },
 "nbformat": 4,
 "nbformat_minor": 0
}
