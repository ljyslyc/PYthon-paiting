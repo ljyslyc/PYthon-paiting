{
 "cells": [
  {
   "cell_type": "markdown",
   "metadata": {
    "collapsed": true
   },
   "source": [
    "   ## Barabasi-Erdos Graph ##"
   ]
  },
  {
   "cell_type": "markdown",
   "metadata": {},
   "source": [
    "A Barabasi-Albert graph is a random graph [https://en.wikipedia.org/wiki/Barab%C3%A1si%E2%80%93Albert_model](https://en.wikipedia.org/wiki/Barab%C3%A1si%E2%80%93Albert_model)."
   ]
  },
  {
   "cell_type": "code",
   "execution_count": 3,
   "metadata": {},
   "outputs": [
    {
     "name": "stdout",
     "output_type": "stream",
     "text": [
      "Looking in indexes: https://pypi.tuna.tsinghua.edu.cn/simple\n",
      "Collecting networkx\n",
      "  Downloading https://pypi.tuna.tsinghua.edu.cn/packages/85/08/f20aef11d4c343b557e5de6b9548761811eb16e438cee3d32b1c66c8566b/networkx-2.3.zip (1.7MB)\n",
      "Requirement already satisfied: decorator>=4.3.0 in d:\\360downloads\\conda\\envs\\tensor\\lib\\site-packages (from networkx) (4.4.0)\n",
      "Building wheels for collected packages: networkx\n",
      "  Building wheel for networkx (setup.py): started\n",
      "  Building wheel for networkx (setup.py): finished with status 'done'\n",
      "  Created wheel for networkx: filename=networkx-2.3-py2.py3-none-any.whl size=1556415 sha256=4c3e4940a7a7b167b6a870c9981cd8fbca27d3b6af6e637ab410518076d0f767\n",
      "  Stored in directory: C:\\Users\\刘大哥\\AppData\\Local\\pip\\Cache\\wheels\\a2\\98\\c6\\91d39c98febb97860b3ebbaddb954e6420ece8d94e2528c401\n",
      "Successfully built networkx\n",
      "Installing collected packages: networkx\n",
      "Successfully installed networkx-2.3\n"
     ]
    }
   ],
   "source": [
    "! pip install networkx"
   ]
  },
  {
   "cell_type": "code",
   "execution_count": 4,
   "metadata": {},
   "outputs": [],
   "source": [
    "import plotly as py\n",
    "from plotly.graph_objs import *\n",
    "import plotly.tools as tls \n",
    "import networkx as nx"
   ]
  },
  {
   "cell_type": "code",
   "execution_count": 5,
   "metadata": {},
   "outputs": [],
   "source": [
    "nr_nodes=150\n",
    "G=nx.barabasi_albert_graph(nr_nodes, 5)"
   ]
  },
  {
   "cell_type": "code",
   "execution_count": 6,
   "metadata": {},
   "outputs": [],
   "source": [
    "pos=nx.random_layout(G, dim= 2)# get  node positions"
   ]
  },
  {
   "cell_type": "code",
   "execution_count": 7,
   "metadata": {},
   "outputs": [],
   "source": [
    "clusteringC=[nx.clustering(G,v) for v in G.nodes()]#list of clustering coefficients\n",
    "degree=[G.degree(v) for v in G.nodes()] # list of node degrees\n",
    "labels=['Node deg: '+ str(G.degree(v))+'<br>Clust coeff: '\\\n",
    "        +'{:.5f}'.format(nx.clustering(G,v))  for v in G.nodes()]#labels for nodes"
   ]
  },
  {
   "cell_type": "markdown",
   "metadata": {},
   "source": [
    "Define the lists of node coordinates, `Xn`, `Yn`, and the lists of  coordinates  `Xe`, `Ye`, for ends of edges:"
   ]
  },
  {
   "cell_type": "code",
   "execution_count": 8,
   "metadata": {},
   "outputs": [],
   "source": [
    "L=len(pos)\n",
    "X=[]\n",
    "Y=[]\n",
    "Xn=[pos[k][0] for k in range(L)]\n",
    "Yn=[pos[k][1] for k in range(L)]\n",
    "Xe=[]\n",
    "Ye=[]\n",
    "for edge in G.edges():\n",
    "    Xe+=[pos[edge[0]][0],pos[edge[1]][0], None]\n",
    "    Ye+=[pos[edge[0]][1],pos[edge[1]][1], None]  "
   ]
  },
  {
   "cell_type": "markdown",
   "metadata": {},
   "source": [
    "We define two Plotly plots for the same Barabasi-Albert graph. In the first one the node colors are assigned according to their clustering coefficients\n",
    "and in the second one, according to the node degree."
   ]
  },
  {
   "cell_type": "markdown",
   "metadata": {},
   "source": [
    "Custom colorscale to plot the nodes in one of the two subplots:"
   ]
  },
  {
   "cell_type": "code",
   "execution_count": 9,
   "metadata": {},
   "outputs": [],
   "source": [
    "nyrev_cs=[[0.0, '#FFFFE0'],\n",
    " [0.06666666666666667, '#FFEEC1'],\n",
    " [0.13333333333333333, '#FFDEA7'],\n",
    " [0.2, '#FFCB91'],\n",
    " [0.26666666666666666, '#FFB880'],\n",
    " [0.3333333333333333, '#FFA474'],\n",
    " [0.4, '#FE906A'],\n",
    " [0.4666666666666667, '#F87D64'],\n",
    " [0.5333333333333333, '#F06A5E'],\n",
    " [0.6, '#E75758'],\n",
    " [0.6666666666666666, '#DB4551'],\n",
    " [0.7333333333333333, '#CF3447'],\n",
    " [0.8, '#C0223B'],\n",
    " [0.8666666666666667, '#B0122C'],\n",
    " [0.9333333333333333, '#9E051B'],\n",
    " [1.0, '#8B0000']]"
   ]
  },
  {
   "cell_type": "markdown",
   "metadata": {},
   "source": [
    "Define Plotly Scatter objects for edges (trace 1) and nodes (trace2 and trace3):"
   ]
  },
  {
   "cell_type": "code",
   "execution_count": 10,
   "metadata": {},
   "outputs": [
    {
     "name": "stderr",
     "output_type": "stream",
     "text": [
      "D:\\360Downloads\\conda\\envs\\tensor\\lib\\site-packages\\plotly\\graph_objs\\_deprecations.py:385: DeprecationWarning:\n",
      "\n",
      "plotly.graph_objs.Line is deprecated.\n",
      "Please replace it with one of the following more specific types\n",
      "  - plotly.graph_objs.scatter.Line\n",
      "  - plotly.graph_objs.layout.shape.Line\n",
      "  - etc.\n",
      "\n",
      "\n",
      "D:\\360Downloads\\conda\\envs\\tensor\\lib\\site-packages\\plotly\\graph_objs\\_deprecations.py:385: DeprecationWarning:\n",
      "\n",
      "plotly.graph_objs.Line is deprecated.\n",
      "Please replace it with one of the following more specific types\n",
      "  - plotly.graph_objs.scatter.Line\n",
      "  - plotly.graph_objs.layout.shape.Line\n",
      "  - etc.\n",
      "\n",
      "\n",
      "D:\\360Downloads\\conda\\envs\\tensor\\lib\\site-packages\\plotly\\graph_objs\\_deprecations.py:441: DeprecationWarning:\n",
      "\n",
      "plotly.graph_objs.Marker is deprecated.\n",
      "Please replace it with one of the following more specific types\n",
      "  - plotly.graph_objs.scatter.Marker\n",
      "  - plotly.graph_objs.histogram.selected.Marker\n",
      "  - etc.\n",
      "\n",
      "\n"
     ]
    },
    {
     "ename": "ValueError",
     "evalue": "\n    Invalid value of type 'builtins.str' received for the 'symbol' property of scatter.marker\n        Received value: 'dot'\n\n    The 'symbol' property is an enumeration that may be specified as:\n      - One of the following enumeration values:\n            [0, 'circle', 100, 'circle-open', 200, 'circle-dot', 300,\n            'circle-open-dot', 1, 'square', 101, 'square-open', 201,\n            'square-dot', 301, 'square-open-dot', 2, 'diamond', 102,\n            'diamond-open', 202, 'diamond-dot', 302,\n            'diamond-open-dot', 3, 'cross', 103, 'cross-open', 203,\n            'cross-dot', 303, 'cross-open-dot', 4, 'x', 104, 'x-open',\n            204, 'x-dot', 304, 'x-open-dot', 5, 'triangle-up', 105,\n            'triangle-up-open', 205, 'triangle-up-dot', 305,\n            'triangle-up-open-dot', 6, 'triangle-down', 106,\n            'triangle-down-open', 206, 'triangle-down-dot', 306,\n            'triangle-down-open-dot', 7, 'triangle-left', 107,\n            'triangle-left-open', 207, 'triangle-left-dot', 307,\n            'triangle-left-open-dot', 8, 'triangle-right', 108,\n            'triangle-right-open', 208, 'triangle-right-dot', 308,\n            'triangle-right-open-dot', 9, 'triangle-ne', 109,\n            'triangle-ne-open', 209, 'triangle-ne-dot', 309,\n            'triangle-ne-open-dot', 10, 'triangle-se', 110,\n            'triangle-se-open', 210, 'triangle-se-dot', 310,\n            'triangle-se-open-dot', 11, 'triangle-sw', 111,\n            'triangle-sw-open', 211, 'triangle-sw-dot', 311,\n            'triangle-sw-open-dot', 12, 'triangle-nw', 112,\n            'triangle-nw-open', 212, 'triangle-nw-dot', 312,\n            'triangle-nw-open-dot', 13, 'pentagon', 113,\n            'pentagon-open', 213, 'pentagon-dot', 313,\n            'pentagon-open-dot', 14, 'hexagon', 114, 'hexagon-open',\n            214, 'hexagon-dot', 314, 'hexagon-open-dot', 15,\n            'hexagon2', 115, 'hexagon2-open', 215, 'hexagon2-dot',\n            315, 'hexagon2-open-dot', 16, 'octagon', 116,\n            'octagon-open', 216, 'octagon-dot', 316,\n            'octagon-open-dot', 17, 'star', 117, 'star-open', 217,\n            'star-dot', 317, 'star-open-dot', 18, 'hexagram', 118,\n            'hexagram-open', 218, 'hexagram-dot', 318,\n            'hexagram-open-dot', 19, 'star-triangle-up', 119,\n            'star-triangle-up-open', 219, 'star-triangle-up-dot', 319,\n            'star-triangle-up-open-dot', 20, 'star-triangle-down',\n            120, 'star-triangle-down-open', 220,\n            'star-triangle-down-dot', 320,\n            'star-triangle-down-open-dot', 21, 'star-square', 121,\n            'star-square-open', 221, 'star-square-dot', 321,\n            'star-square-open-dot', 22, 'star-diamond', 122,\n            'star-diamond-open', 222, 'star-diamond-dot', 322,\n            'star-diamond-open-dot', 23, 'diamond-tall', 123,\n            'diamond-tall-open', 223, 'diamond-tall-dot', 323,\n            'diamond-tall-open-dot', 24, 'diamond-wide', 124,\n            'diamond-wide-open', 224, 'diamond-wide-dot', 324,\n            'diamond-wide-open-dot', 25, 'hourglass', 125,\n            'hourglass-open', 26, 'bowtie', 126, 'bowtie-open', 27,\n            'circle-cross', 127, 'circle-cross-open', 28, 'circle-x',\n            128, 'circle-x-open', 29, 'square-cross', 129,\n            'square-cross-open', 30, 'square-x', 130, 'square-x-open',\n            31, 'diamond-cross', 131, 'diamond-cross-open', 32,\n            'diamond-x', 132, 'diamond-x-open', 33, 'cross-thin', 133,\n            'cross-thin-open', 34, 'x-thin', 134, 'x-thin-open', 35,\n            'asterisk', 135, 'asterisk-open', 36, 'hash', 136,\n            'hash-open', 236, 'hash-dot', 336, 'hash-open-dot', 37,\n            'y-up', 137, 'y-up-open', 38, 'y-down', 138,\n            'y-down-open', 39, 'y-left', 139, 'y-left-open', 40,\n            'y-right', 140, 'y-right-open', 41, 'line-ew', 141,\n            'line-ew-open', 42, 'line-ns', 142, 'line-ns-open', 43,\n            'line-ne', 143, 'line-ne-open', 44, 'line-nw', 144,\n            'line-nw-open']\n      - A tuple, list, or one-dimensional numpy array of the above",
     "output_type": "error",
     "traceback": [
      "\u001b[1;31m---------------------------------------------------------------------------\u001b[0m",
      "\u001b[1;31mValueError\u001b[0m                                Traceback (most recent call last)",
      "\u001b[1;32m<ipython-input-10-47a9dba6ea78>\u001b[0m in \u001b[0;36m<module>\u001b[1;34m\u001b[0m\n\u001b[0;32m     17\u001b[0m                              ),\n\u001b[0;32m     18\u001b[0m                \u001b[0mtext\u001b[0m\u001b[1;33m=\u001b[0m\u001b[0mlabels\u001b[0m\u001b[1;33m,\u001b[0m\u001b[1;33m\u001b[0m\u001b[1;33m\u001b[0m\u001b[0m\n\u001b[1;32m---> 19\u001b[1;33m                \u001b[0mhoverinfo\u001b[0m\u001b[1;33m=\u001b[0m\u001b[1;34m'text'\u001b[0m\u001b[1;33m\u001b[0m\u001b[1;33m\u001b[0m\u001b[0m\n\u001b[0m\u001b[0;32m     20\u001b[0m                )\n\u001b[0;32m     21\u001b[0m trace3=Scatter(x=Xn,\n",
      "\u001b[1;32mD:\\360Downloads\\conda\\envs\\tensor\\lib\\site-packages\\plotly\\graph_objs\\__init__.py\u001b[0m in \u001b[0;36m__init__\u001b[1;34m(self, arg, cliponaxis, connectgaps, customdata, customdatasrc, dx, dy, error_x, error_y, fill, fillcolor, groupnorm, hoverinfo, hoverinfosrc, hoverlabel, hoveron, hovertemplate, hovertemplatesrc, hovertext, hovertextsrc, ids, idssrc, legendgroup, line, marker, meta, metasrc, mode, name, opacity, orientation, r, rsrc, selected, selectedpoints, showlegend, stackgaps, stackgroup, stream, t, text, textfont, textposition, textpositionsrc, textsrc, tsrc, uid, uirevision, unselected, visible, x, x0, xaxis, xcalendar, xsrc, y, y0, yaxis, ycalendar, ysrc, **kwargs)\u001b[0m\n\u001b[0;32m  39637\u001b[0m         \u001b[0mself\u001b[0m\u001b[1;33m[\u001b[0m\u001b[1;34m\"line\"\u001b[0m\u001b[1;33m]\u001b[0m \u001b[1;33m=\u001b[0m \u001b[0mline\u001b[0m \u001b[1;32mif\u001b[0m \u001b[0mline\u001b[0m \u001b[1;32mis\u001b[0m \u001b[1;32mnot\u001b[0m \u001b[1;32mNone\u001b[0m \u001b[1;32melse\u001b[0m \u001b[0m_v\u001b[0m\u001b[1;33m\u001b[0m\u001b[1;33m\u001b[0m\u001b[0m\n\u001b[0;32m  39638\u001b[0m         \u001b[0m_v\u001b[0m \u001b[1;33m=\u001b[0m \u001b[0marg\u001b[0m\u001b[1;33m.\u001b[0m\u001b[0mpop\u001b[0m\u001b[1;33m(\u001b[0m\u001b[1;34m\"marker\"\u001b[0m\u001b[1;33m,\u001b[0m \u001b[1;32mNone\u001b[0m\u001b[1;33m)\u001b[0m\u001b[1;33m\u001b[0m\u001b[1;33m\u001b[0m\u001b[0m\n\u001b[1;32m> 39639\u001b[1;33m         \u001b[0mself\u001b[0m\u001b[1;33m[\u001b[0m\u001b[1;34m\"marker\"\u001b[0m\u001b[1;33m]\u001b[0m \u001b[1;33m=\u001b[0m \u001b[0mmarker\u001b[0m \u001b[1;32mif\u001b[0m \u001b[0mmarker\u001b[0m \u001b[1;32mis\u001b[0m \u001b[1;32mnot\u001b[0m \u001b[1;32mNone\u001b[0m \u001b[1;32melse\u001b[0m \u001b[0m_v\u001b[0m\u001b[1;33m\u001b[0m\u001b[1;33m\u001b[0m\u001b[0m\n\u001b[0m\u001b[0;32m  39640\u001b[0m         \u001b[0m_v\u001b[0m \u001b[1;33m=\u001b[0m \u001b[0marg\u001b[0m\u001b[1;33m.\u001b[0m\u001b[0mpop\u001b[0m\u001b[1;33m(\u001b[0m\u001b[1;34m\"meta\"\u001b[0m\u001b[1;33m,\u001b[0m \u001b[1;32mNone\u001b[0m\u001b[1;33m)\u001b[0m\u001b[1;33m\u001b[0m\u001b[1;33m\u001b[0m\u001b[0m\n\u001b[0;32m  39641\u001b[0m         \u001b[0mself\u001b[0m\u001b[1;33m[\u001b[0m\u001b[1;34m\"meta\"\u001b[0m\u001b[1;33m]\u001b[0m \u001b[1;33m=\u001b[0m \u001b[0mmeta\u001b[0m \u001b[1;32mif\u001b[0m \u001b[0mmeta\u001b[0m \u001b[1;32mis\u001b[0m \u001b[1;32mnot\u001b[0m \u001b[1;32mNone\u001b[0m \u001b[1;32melse\u001b[0m \u001b[0m_v\u001b[0m\u001b[1;33m\u001b[0m\u001b[1;33m\u001b[0m\u001b[0m\n",
      "\u001b[1;32mD:\\360Downloads\\conda\\envs\\tensor\\lib\\site-packages\\plotly\\basedatatypes.py\u001b[0m in \u001b[0;36m__setitem__\u001b[1;34m(self, prop, value)\u001b[0m\n\u001b[0;32m   3343\u001b[0m             \u001b[1;31m# ### Handle compound property ###\u001b[0m\u001b[1;33m\u001b[0m\u001b[1;33m\u001b[0m\u001b[1;33m\u001b[0m\u001b[0m\n\u001b[0;32m   3344\u001b[0m             \u001b[1;32mif\u001b[0m \u001b[0misinstance\u001b[0m\u001b[1;33m(\u001b[0m\u001b[0mvalidator\u001b[0m\u001b[1;33m,\u001b[0m \u001b[0mCompoundValidator\u001b[0m\u001b[1;33m)\u001b[0m\u001b[1;33m:\u001b[0m\u001b[1;33m\u001b[0m\u001b[1;33m\u001b[0m\u001b[0m\n\u001b[1;32m-> 3345\u001b[1;33m                 \u001b[0mself\u001b[0m\u001b[1;33m.\u001b[0m\u001b[0m_set_compound_prop\u001b[0m\u001b[1;33m(\u001b[0m\u001b[0mprop\u001b[0m\u001b[1;33m,\u001b[0m \u001b[0mvalue\u001b[0m\u001b[1;33m)\u001b[0m\u001b[1;33m\u001b[0m\u001b[1;33m\u001b[0m\u001b[0m\n\u001b[0m\u001b[0;32m   3346\u001b[0m \u001b[1;33m\u001b[0m\u001b[0m\n\u001b[0;32m   3347\u001b[0m             \u001b[1;31m# ### Handle compound array property ###\u001b[0m\u001b[1;33m\u001b[0m\u001b[1;33m\u001b[0m\u001b[1;33m\u001b[0m\u001b[0m\n",
      "\u001b[1;32mD:\\360Downloads\\conda\\envs\\tensor\\lib\\site-packages\\plotly\\basedatatypes.py\u001b[0m in \u001b[0;36m_set_compound_prop\u001b[1;34m(self, prop, val)\u001b[0m\n\u001b[0;32m   3694\u001b[0m         \u001b[0mvalidator\u001b[0m \u001b[1;33m=\u001b[0m \u001b[0mself\u001b[0m\u001b[1;33m.\u001b[0m\u001b[0m_validators\u001b[0m\u001b[1;33m.\u001b[0m\u001b[0mget\u001b[0m\u001b[1;33m(\u001b[0m\u001b[0mprop\u001b[0m\u001b[1;33m)\u001b[0m\u001b[1;33m\u001b[0m\u001b[1;33m\u001b[0m\u001b[0m\n\u001b[0;32m   3695\u001b[0m         \u001b[1;31m# type: BasePlotlyType\u001b[0m\u001b[1;33m\u001b[0m\u001b[1;33m\u001b[0m\u001b[1;33m\u001b[0m\u001b[0m\n\u001b[1;32m-> 3696\u001b[1;33m         \u001b[0mval\u001b[0m \u001b[1;33m=\u001b[0m \u001b[0mvalidator\u001b[0m\u001b[1;33m.\u001b[0m\u001b[0mvalidate_coerce\u001b[0m\u001b[1;33m(\u001b[0m\u001b[0mval\u001b[0m\u001b[1;33m,\u001b[0m \u001b[0mskip_invalid\u001b[0m\u001b[1;33m=\u001b[0m\u001b[0mself\u001b[0m\u001b[1;33m.\u001b[0m\u001b[0m_skip_invalid\u001b[0m\u001b[1;33m)\u001b[0m\u001b[1;33m\u001b[0m\u001b[1;33m\u001b[0m\u001b[0m\n\u001b[0m\u001b[0;32m   3697\u001b[0m \u001b[1;33m\u001b[0m\u001b[0m\n\u001b[0;32m   3698\u001b[0m         \u001b[1;31m# Save deep copies of current and new states\u001b[0m\u001b[1;33m\u001b[0m\u001b[1;33m\u001b[0m\u001b[1;33m\u001b[0m\u001b[0m\n",
      "\u001b[1;32mD:\\360Downloads\\conda\\envs\\tensor\\lib\\site-packages\\_plotly_utils\\basevalidators.py\u001b[0m in \u001b[0;36mvalidate_coerce\u001b[1;34m(self, v, skip_invalid)\u001b[0m\n\u001b[0;32m   2431\u001b[0m \u001b[1;33m\u001b[0m\u001b[0m\n\u001b[0;32m   2432\u001b[0m         \u001b[1;32melif\u001b[0m \u001b[0misinstance\u001b[0m\u001b[1;33m(\u001b[0m\u001b[0mv\u001b[0m\u001b[1;33m,\u001b[0m \u001b[0mdict\u001b[0m\u001b[1;33m)\u001b[0m\u001b[1;33m:\u001b[0m\u001b[1;33m\u001b[0m\u001b[1;33m\u001b[0m\u001b[0m\n\u001b[1;32m-> 2433\u001b[1;33m             \u001b[0mv\u001b[0m \u001b[1;33m=\u001b[0m \u001b[0mself\u001b[0m\u001b[1;33m.\u001b[0m\u001b[0mdata_class\u001b[0m\u001b[1;33m(\u001b[0m\u001b[0mv\u001b[0m\u001b[1;33m,\u001b[0m \u001b[0mskip_invalid\u001b[0m\u001b[1;33m=\u001b[0m\u001b[0mskip_invalid\u001b[0m\u001b[1;33m)\u001b[0m\u001b[1;33m\u001b[0m\u001b[1;33m\u001b[0m\u001b[0m\n\u001b[0m\u001b[0;32m   2434\u001b[0m \u001b[1;33m\u001b[0m\u001b[0m\n\u001b[0;32m   2435\u001b[0m         \u001b[1;32melif\u001b[0m \u001b[0misinstance\u001b[0m\u001b[1;33m(\u001b[0m\u001b[0mv\u001b[0m\u001b[1;33m,\u001b[0m \u001b[0mself\u001b[0m\u001b[1;33m.\u001b[0m\u001b[0mdata_class\u001b[0m\u001b[1;33m)\u001b[0m\u001b[1;33m:\u001b[0m\u001b[1;33m\u001b[0m\u001b[1;33m\u001b[0m\u001b[0m\n",
      "\u001b[1;32mD:\\360Downloads\\conda\\envs\\tensor\\lib\\site-packages\\plotly\\graph_objs\\scatter\\__init__.py\u001b[0m in \u001b[0;36m__init__\u001b[1;34m(self, arg, autocolorscale, cauto, cmax, cmid, cmin, color, coloraxis, colorbar, colorscale, colorsrc, gradient, line, maxdisplayed, opacity, opacitysrc, reversescale, showscale, size, sizemin, sizemode, sizeref, sizesrc, symbol, symbolsrc, **kwargs)\u001b[0m\n\u001b[0;32m   2137\u001b[0m         \u001b[0mself\u001b[0m\u001b[1;33m[\u001b[0m\u001b[1;34m\"sizesrc\"\u001b[0m\u001b[1;33m]\u001b[0m \u001b[1;33m=\u001b[0m \u001b[0msizesrc\u001b[0m \u001b[1;32mif\u001b[0m \u001b[0msizesrc\u001b[0m \u001b[1;32mis\u001b[0m \u001b[1;32mnot\u001b[0m \u001b[1;32mNone\u001b[0m \u001b[1;32melse\u001b[0m \u001b[0m_v\u001b[0m\u001b[1;33m\u001b[0m\u001b[1;33m\u001b[0m\u001b[0m\n\u001b[0;32m   2138\u001b[0m         \u001b[0m_v\u001b[0m \u001b[1;33m=\u001b[0m \u001b[0marg\u001b[0m\u001b[1;33m.\u001b[0m\u001b[0mpop\u001b[0m\u001b[1;33m(\u001b[0m\u001b[1;34m\"symbol\"\u001b[0m\u001b[1;33m,\u001b[0m \u001b[1;32mNone\u001b[0m\u001b[1;33m)\u001b[0m\u001b[1;33m\u001b[0m\u001b[1;33m\u001b[0m\u001b[0m\n\u001b[1;32m-> 2139\u001b[1;33m         \u001b[0mself\u001b[0m\u001b[1;33m[\u001b[0m\u001b[1;34m\"symbol\"\u001b[0m\u001b[1;33m]\u001b[0m \u001b[1;33m=\u001b[0m \u001b[0msymbol\u001b[0m \u001b[1;32mif\u001b[0m \u001b[0msymbol\u001b[0m \u001b[1;32mis\u001b[0m \u001b[1;32mnot\u001b[0m \u001b[1;32mNone\u001b[0m \u001b[1;32melse\u001b[0m \u001b[0m_v\u001b[0m\u001b[1;33m\u001b[0m\u001b[1;33m\u001b[0m\u001b[0m\n\u001b[0m\u001b[0;32m   2140\u001b[0m         \u001b[0m_v\u001b[0m \u001b[1;33m=\u001b[0m \u001b[0marg\u001b[0m\u001b[1;33m.\u001b[0m\u001b[0mpop\u001b[0m\u001b[1;33m(\u001b[0m\u001b[1;34m\"symbolsrc\"\u001b[0m\u001b[1;33m,\u001b[0m \u001b[1;32mNone\u001b[0m\u001b[1;33m)\u001b[0m\u001b[1;33m\u001b[0m\u001b[1;33m\u001b[0m\u001b[0m\n\u001b[0;32m   2141\u001b[0m         \u001b[0mself\u001b[0m\u001b[1;33m[\u001b[0m\u001b[1;34m\"symbolsrc\"\u001b[0m\u001b[1;33m]\u001b[0m \u001b[1;33m=\u001b[0m \u001b[0msymbolsrc\u001b[0m \u001b[1;32mif\u001b[0m \u001b[0msymbolsrc\u001b[0m \u001b[1;32mis\u001b[0m \u001b[1;32mnot\u001b[0m \u001b[1;32mNone\u001b[0m \u001b[1;32melse\u001b[0m \u001b[0m_v\u001b[0m\u001b[1;33m\u001b[0m\u001b[1;33m\u001b[0m\u001b[0m\n",
      "\u001b[1;32mD:\\360Downloads\\conda\\envs\\tensor\\lib\\site-packages\\plotly\\basedatatypes.py\u001b[0m in \u001b[0;36m__setitem__\u001b[1;34m(self, prop, value)\u001b[0m\n\u001b[0;32m   3351\u001b[0m             \u001b[1;31m# ### Handle simple property ###\u001b[0m\u001b[1;33m\u001b[0m\u001b[1;33m\u001b[0m\u001b[1;33m\u001b[0m\u001b[0m\n\u001b[0;32m   3352\u001b[0m             \u001b[1;32melse\u001b[0m\u001b[1;33m:\u001b[0m\u001b[1;33m\u001b[0m\u001b[1;33m\u001b[0m\u001b[0m\n\u001b[1;32m-> 3353\u001b[1;33m                 \u001b[0mself\u001b[0m\u001b[1;33m.\u001b[0m\u001b[0m_set_prop\u001b[0m\u001b[1;33m(\u001b[0m\u001b[0mprop\u001b[0m\u001b[1;33m,\u001b[0m \u001b[0mvalue\u001b[0m\u001b[1;33m)\u001b[0m\u001b[1;33m\u001b[0m\u001b[1;33m\u001b[0m\u001b[0m\n\u001b[0m\u001b[0;32m   3354\u001b[0m \u001b[1;33m\u001b[0m\u001b[0m\n\u001b[0;32m   3355\u001b[0m         \u001b[1;31m# Handle non-scalar case\u001b[0m\u001b[1;33m\u001b[0m\u001b[1;33m\u001b[0m\u001b[1;33m\u001b[0m\u001b[0m\n",
      "\u001b[1;32mD:\\360Downloads\\conda\\envs\\tensor\\lib\\site-packages\\plotly\\basedatatypes.py\u001b[0m in \u001b[0;36m_set_prop\u001b[1;34m(self, prop, val)\u001b[0m\n\u001b[0;32m   3634\u001b[0m                 \u001b[1;32mreturn\u001b[0m\u001b[1;33m\u001b[0m\u001b[1;33m\u001b[0m\u001b[0m\n\u001b[0;32m   3635\u001b[0m             \u001b[1;32melse\u001b[0m\u001b[1;33m:\u001b[0m\u001b[1;33m\u001b[0m\u001b[1;33m\u001b[0m\u001b[0m\n\u001b[1;32m-> 3636\u001b[1;33m                 \u001b[1;32mraise\u001b[0m \u001b[0merr\u001b[0m\u001b[1;33m\u001b[0m\u001b[1;33m\u001b[0m\u001b[0m\n\u001b[0m\u001b[0;32m   3637\u001b[0m \u001b[1;33m\u001b[0m\u001b[0m\n\u001b[0;32m   3638\u001b[0m         \u001b[1;31m# val is None\u001b[0m\u001b[1;33m\u001b[0m\u001b[1;33m\u001b[0m\u001b[1;33m\u001b[0m\u001b[0m\n",
      "\u001b[1;32mD:\\360Downloads\\conda\\envs\\tensor\\lib\\site-packages\\plotly\\basedatatypes.py\u001b[0m in \u001b[0;36m_set_prop\u001b[1;34m(self, prop, val)\u001b[0m\n\u001b[0;32m   3629\u001b[0m         \u001b[0mvalidator\u001b[0m \u001b[1;33m=\u001b[0m \u001b[0mself\u001b[0m\u001b[1;33m.\u001b[0m\u001b[0m_validators\u001b[0m\u001b[1;33m.\u001b[0m\u001b[0mget\u001b[0m\u001b[1;33m(\u001b[0m\u001b[0mprop\u001b[0m\u001b[1;33m)\u001b[0m\u001b[1;33m\u001b[0m\u001b[1;33m\u001b[0m\u001b[0m\n\u001b[0;32m   3630\u001b[0m         \u001b[1;32mtry\u001b[0m\u001b[1;33m:\u001b[0m\u001b[1;33m\u001b[0m\u001b[1;33m\u001b[0m\u001b[0m\n\u001b[1;32m-> 3631\u001b[1;33m             \u001b[0mval\u001b[0m \u001b[1;33m=\u001b[0m \u001b[0mvalidator\u001b[0m\u001b[1;33m.\u001b[0m\u001b[0mvalidate_coerce\u001b[0m\u001b[1;33m(\u001b[0m\u001b[0mval\u001b[0m\u001b[1;33m)\u001b[0m\u001b[1;33m\u001b[0m\u001b[1;33m\u001b[0m\u001b[0m\n\u001b[0m\u001b[0;32m   3632\u001b[0m         \u001b[1;32mexcept\u001b[0m \u001b[0mValueError\u001b[0m \u001b[1;32mas\u001b[0m \u001b[0merr\u001b[0m\u001b[1;33m:\u001b[0m\u001b[1;33m\u001b[0m\u001b[1;33m\u001b[0m\u001b[0m\n\u001b[0;32m   3633\u001b[0m             \u001b[1;32mif\u001b[0m \u001b[0mself\u001b[0m\u001b[1;33m.\u001b[0m\u001b[0m_skip_invalid\u001b[0m\u001b[1;33m:\u001b[0m\u001b[1;33m\u001b[0m\u001b[1;33m\u001b[0m\u001b[0m\n",
      "\u001b[1;32mD:\\360Downloads\\conda\\envs\\tensor\\lib\\site-packages\\_plotly_utils\\basevalidators.py\u001b[0m in \u001b[0;36mvalidate_coerce\u001b[1;34m(self, v)\u001b[0m\n\u001b[0;32m    592\u001b[0m             \u001b[0mv\u001b[0m \u001b[1;33m=\u001b[0m \u001b[0mself\u001b[0m\u001b[1;33m.\u001b[0m\u001b[0mperform_replacemenet\u001b[0m\u001b[1;33m(\u001b[0m\u001b[0mv\u001b[0m\u001b[1;33m)\u001b[0m\u001b[1;33m\u001b[0m\u001b[1;33m\u001b[0m\u001b[0m\n\u001b[0;32m    593\u001b[0m             \u001b[1;32mif\u001b[0m \u001b[1;32mnot\u001b[0m \u001b[0mself\u001b[0m\u001b[1;33m.\u001b[0m\u001b[0min_values\u001b[0m\u001b[1;33m(\u001b[0m\u001b[0mv\u001b[0m\u001b[1;33m)\u001b[0m\u001b[1;33m:\u001b[0m\u001b[1;33m\u001b[0m\u001b[1;33m\u001b[0m\u001b[0m\n\u001b[1;32m--> 594\u001b[1;33m                 \u001b[0mself\u001b[0m\u001b[1;33m.\u001b[0m\u001b[0mraise_invalid_val\u001b[0m\u001b[1;33m(\u001b[0m\u001b[0mv\u001b[0m\u001b[1;33m)\u001b[0m\u001b[1;33m\u001b[0m\u001b[1;33m\u001b[0m\u001b[0m\n\u001b[0m\u001b[0;32m    595\u001b[0m         \u001b[1;32mreturn\u001b[0m \u001b[0mv\u001b[0m\u001b[1;33m\u001b[0m\u001b[1;33m\u001b[0m\u001b[0m\n\u001b[0;32m    596\u001b[0m \u001b[1;33m\u001b[0m\u001b[0m\n",
      "\u001b[1;32mD:\\360Downloads\\conda\\envs\\tensor\\lib\\site-packages\\_plotly_utils\\basevalidators.py\u001b[0m in \u001b[0;36mraise_invalid_val\u001b[1;34m(self, v, inds)\u001b[0m\n\u001b[0;32m    281\u001b[0m                 \u001b[0mtyp\u001b[0m\u001b[1;33m=\u001b[0m\u001b[0mtype_str\u001b[0m\u001b[1;33m(\u001b[0m\u001b[0mv\u001b[0m\u001b[1;33m)\u001b[0m\u001b[1;33m,\u001b[0m\u001b[1;33m\u001b[0m\u001b[1;33m\u001b[0m\u001b[0m\n\u001b[0;32m    282\u001b[0m                 \u001b[0mv\u001b[0m\u001b[1;33m=\u001b[0m\u001b[0mrepr\u001b[0m\u001b[1;33m(\u001b[0m\u001b[0mv\u001b[0m\u001b[1;33m)\u001b[0m\u001b[1;33m,\u001b[0m\u001b[1;33m\u001b[0m\u001b[1;33m\u001b[0m\u001b[0m\n\u001b[1;32m--> 283\u001b[1;33m                 \u001b[0mvalid_clr_desc\u001b[0m\u001b[1;33m=\u001b[0m\u001b[0mself\u001b[0m\u001b[1;33m.\u001b[0m\u001b[0mdescription\u001b[0m\u001b[1;33m(\u001b[0m\u001b[1;33m)\u001b[0m\u001b[1;33m,\u001b[0m\u001b[1;33m\u001b[0m\u001b[1;33m\u001b[0m\u001b[0m\n\u001b[0m\u001b[0;32m    284\u001b[0m             )\n\u001b[0;32m    285\u001b[0m         )\n",
      "\u001b[1;31mValueError\u001b[0m: \n    Invalid value of type 'builtins.str' received for the 'symbol' property of scatter.marker\n        Received value: 'dot'\n\n    The 'symbol' property is an enumeration that may be specified as:\n      - One of the following enumeration values:\n            [0, 'circle', 100, 'circle-open', 200, 'circle-dot', 300,\n            'circle-open-dot', 1, 'square', 101, 'square-open', 201,\n            'square-dot', 301, 'square-open-dot', 2, 'diamond', 102,\n            'diamond-open', 202, 'diamond-dot', 302,\n            'diamond-open-dot', 3, 'cross', 103, 'cross-open', 203,\n            'cross-dot', 303, 'cross-open-dot', 4, 'x', 104, 'x-open',\n            204, 'x-dot', 304, 'x-open-dot', 5, 'triangle-up', 105,\n            'triangle-up-open', 205, 'triangle-up-dot', 305,\n            'triangle-up-open-dot', 6, 'triangle-down', 106,\n            'triangle-down-open', 206, 'triangle-down-dot', 306,\n            'triangle-down-open-dot', 7, 'triangle-left', 107,\n            'triangle-left-open', 207, 'triangle-left-dot', 307,\n            'triangle-left-open-dot', 8, 'triangle-right', 108,\n            'triangle-right-open', 208, 'triangle-right-dot', 308,\n            'triangle-right-open-dot', 9, 'triangle-ne', 109,\n            'triangle-ne-open', 209, 'triangle-ne-dot', 309,\n            'triangle-ne-open-dot', 10, 'triangle-se', 110,\n            'triangle-se-open', 210, 'triangle-se-dot', 310,\n            'triangle-se-open-dot', 11, 'triangle-sw', 111,\n            'triangle-sw-open', 211, 'triangle-sw-dot', 311,\n            'triangle-sw-open-dot', 12, 'triangle-nw', 112,\n            'triangle-nw-open', 212, 'triangle-nw-dot', 312,\n            'triangle-nw-open-dot', 13, 'pentagon', 113,\n            'pentagon-open', 213, 'pentagon-dot', 313,\n            'pentagon-open-dot', 14, 'hexagon', 114, 'hexagon-open',\n            214, 'hexagon-dot', 314, 'hexagon-open-dot', 15,\n            'hexagon2', 115, 'hexagon2-open', 215, 'hexagon2-dot',\n            315, 'hexagon2-open-dot', 16, 'octagon', 116,\n            'octagon-open', 216, 'octagon-dot', 316,\n            'octagon-open-dot', 17, 'star', 117, 'star-open', 217,\n            'star-dot', 317, 'star-open-dot', 18, 'hexagram', 118,\n            'hexagram-open', 218, 'hexagram-dot', 318,\n            'hexagram-open-dot', 19, 'star-triangle-up', 119,\n            'star-triangle-up-open', 219, 'star-triangle-up-dot', 319,\n            'star-triangle-up-open-dot', 20, 'star-triangle-down',\n            120, 'star-triangle-down-open', 220,\n            'star-triangle-down-dot', 320,\n            'star-triangle-down-open-dot', 21, 'star-square', 121,\n            'star-square-open', 221, 'star-square-dot', 321,\n            'star-square-open-dot', 22, 'star-diamond', 122,\n            'star-diamond-open', 222, 'star-diamond-dot', 322,\n            'star-diamond-open-dot', 23, 'diamond-tall', 123,\n            'diamond-tall-open', 223, 'diamond-tall-dot', 323,\n            'diamond-tall-open-dot', 24, 'diamond-wide', 124,\n            'diamond-wide-open', 224, 'diamond-wide-dot', 324,\n            'diamond-wide-open-dot', 25, 'hourglass', 125,\n            'hourglass-open', 26, 'bowtie', 126, 'bowtie-open', 27,\n            'circle-cross', 127, 'circle-cross-open', 28, 'circle-x',\n            128, 'circle-x-open', 29, 'square-cross', 129,\n            'square-cross-open', 30, 'square-x', 130, 'square-x-open',\n            31, 'diamond-cross', 131, 'diamond-cross-open', 32,\n            'diamond-x', 132, 'diamond-x-open', 33, 'cross-thin', 133,\n            'cross-thin-open', 34, 'x-thin', 134, 'x-thin-open', 35,\n            'asterisk', 135, 'asterisk-open', 36, 'hash', 136,\n            'hash-open', 236, 'hash-dot', 336, 'hash-open-dot', 37,\n            'y-up', 137, 'y-up-open', 38, 'y-down', 138,\n            'y-down-open', 39, 'y-left', 139, 'y-left-open', 40,\n            'y-right', 140, 'y-right-open', 41, 'line-ew', 141,\n            'line-ew-open', 42, 'line-ns', 142, 'line-ns-open', 43,\n            'line-ne', 143, 'line-ne-open', 44, 'line-nw', 144,\n            'line-nw-open']\n      - A tuple, list, or one-dimensional numpy array of the above"
     ]
    }
   ],
   "source": [
    "trace1=Scatter(x=Xe,\n",
    "               y=Ye,\n",
    "               mode='lines',\n",
    "               line=Line(color='rgb(210,210,210)', width=0.5),\n",
    "               hoverinfo='none'\n",
    "               )\n",
    "trace2=Scatter(x=Xn,\n",
    "               y=Yn,\n",
    "               mode='markers',\n",
    "               name='B-A',\n",
    "               marker=Marker(symbol='dot',\n",
    "                             size=10, \n",
    "                             color=clusteringC, \n",
    "                             colorscale=nyrev_cs, #custom colorscale\n",
    "                             #colorbar={'title':'Clustering coeff', 'titleside':'top'},\n",
    "                             line=Line(color='rgb(50,50,50)', width=0.5)\n",
    "                             ),\n",
    "               text=labels,\n",
    "               hoverinfo='text'\n",
    "               )\n",
    "trace3=Scatter(x=Xn,\n",
    "               y=Yn,\n",
    "               mode='markers',\n",
    "               name='B-A',\n",
    "               marker=Marker(symbol='dot',\n",
    "                             size=10, \n",
    "                             color=degree, \n",
    "                             colorscale='YIGnBu', #Plotly colorscale\n",
    "                             reversescale=True,\n",
    "                             #colorbar={'title':'Node degree', 'titleside':'top'},\n",
    "                             line=Line(color='rgb(50,50,50)', width=0.5)\n",
    "                             ),\n",
    "               text=labels,\n",
    "               hoverinfo='text'\n",
    "               )"
   ]
  },
  {
   "cell_type": "markdown",
   "metadata": {},
   "source": [
    "Subplot titles:"
   ]
  },
  {
   "cell_type": "code",
   "execution_count": null,
   "metadata": {},
   "outputs": [],
   "source": [
    "titles=('Colors assigned according to the<br>node clustering coefficient', \n",
    "        'Colors assigned according to the<br>node degree')"
   ]
  },
  {
   "cell_type": "code",
   "execution_count": 75,
   "metadata": {},
   "outputs": [
    {
     "name": "stdout",
     "output_type": "stream",
     "text": [
      "This is the format of your plot grid:\n",
      "[ (1,1) x1,y1 ]  [ (1,2) x2,y2 ]\n",
      "\n"
     ]
    }
   ],
   "source": [
    "figure = tls.make_subplots(rows=1, cols=2, subplot_titles=titles,\n",
    "                           horizontal_spacing=0.025,                   \n",
    "                           print_grid=True)"
   ]
  },
  {
   "cell_type": "code",
   "execution_count": 76,
   "metadata": {
    "collapsed": true
   },
   "outputs": [],
   "source": [
    "axis=dict(showline=False, # hide axis line, grid, ticklabels and  title\n",
    "          zeroline=False,\n",
    "          showgrid=False,\n",
    "          showticklabels=False,\n",
    "          title='' \n",
    "          )\n",
    "def make_XAxis():\n",
    "    xaxis = XAxis()  \n",
    "    xaxis.update(axis)                      \n",
    "    return xaxis\n",
    "def make_YAxis():\n",
    "    yaxis = YAxis()  \n",
    "    yaxis.update(axis)                      \n",
    "    return yaxis"
   ]
  },
  {
   "cell_type": "code",
   "execution_count": 77,
   "metadata": {
    "collapsed": true
   },
   "outputs": [],
   "source": [
    "width=1000\n",
    "height=500\n",
    "\n",
    "figure['layout'].update(title= 'Barabasi-Albert Graph of parameters (m,n)=(150, 5)',  \n",
    "    font= Font(size=14),\n",
    "    showlegend=False,\n",
    "    autosize=False,\n",
    "    width=width,\n",
    "    height=height,\n",
    "    margin=Margin(\n",
    "        l=40,\n",
    "        r=40,\n",
    "        b=85,\n",
    "        t=120,\n",
    "    ),\n",
    "    hovermode='closest',          \n",
    "    )\n"
   ]
  },
  {
   "cell_type": "code",
   "execution_count": 78,
   "metadata": {},
   "outputs": [],
   "source": [
    "figure.append_trace(trace1, 1, 1)\n",
    "figure.append_trace(trace2, 1, 1)\n",
    "figure.append_trace(trace1, 1, 2)\n",
    "figure.append_trace(trace3, 1, 2)"
   ]
  },
  {
   "cell_type": "code",
   "execution_count": 79,
   "metadata": {
    "collapsed": true
   },
   "outputs": [],
   "source": [
    "for s in [1,2]:   \n",
    "    figure['layout'].update({'xaxis{}'.format(s): make_XAxis()})# set xaxis style\n",
    "    figure['layout'].update({'yaxis{}'.format(s): make_YAxis()})# set yaxis style"
   ]
  },
  {
   "cell_type": "code",
   "execution_count": 80,
   "metadata": {},
   "outputs": [
    {
     "data": {
      "text/plain": [
       "u'https://plot.ly/~empet/8024'"
      ]
     },
     "execution_count": 80,
     "metadata": {},
     "output_type": "execute_result"
    }
   ],
   "source": [
    "py.sign_in('empet', '')\n",
    "py.iplot(figure, filename='Barabasi-Albert-Graph')"
   ]
  },
  {
   "cell_type": "markdown",
   "metadata": {},
   "source": [
    "Click on the image below to access the interactive plots:"
   ]
  },
  {
   "cell_type": "markdown",
   "metadata": {},
   "source": [
    "<div>\n",
    "    <a href=\"https://plot.ly/~empet/8024/\" target=\"_blank\" title=\"Barabasi-Albert Graph of parameters (m,n)=(150, 5)\" style=\"display: block; text-align: center;\"><img src=\"https://plot.ly/~empet/8024.png\" alt=\"Barabasi-Albert Graph of parameters (m,n)=(150, 5)\" style=\"max-width: 100%;width: 1000px;\"  width=\"1000\" onerror=\"this.onerror=null;this.src='https://plot.ly/404.png';\" /></a>\n",
    "    <script data-plotly=\"empet:8024\"  src=\"https://plot.ly/embed.js\" async></script>\n",
    "</div>\n",
    "\n"
   ]
  },
  {
   "cell_type": "code",
   "execution_count": 2,
   "metadata": {},
   "outputs": [
    {
     "data": {
      "text/html": [
       "<style>\n",
       "    /*body {\n",
       "        background-color: #F5F5F5;\n",
       "    }*/\n",
       "    div.cell{\n",
       "        width: 900px;\n",
       "        margin-left: 13% !important;\n",
       "        margin-right: auto;\n",
       "    }\n",
       "    #notebook li { /* More space between bullet points */\n",
       "    margin-top:0.8em;\n",
       "    }\n",
       "\n",
       "    h1 {\n",
       "        font-family: 'Alegreya Sans', sans-serif;\n",
       "    }\n",
       "    .text_cell_render h1 {\n",
       "        font-weight: 200;\n",
       "        font-size: 40pt;\n",
       "        line-height: 100%;\n",
       "        color: rgb(8, 66, 133);\n",
       "        margin-bottom: 0em;\n",
       "        margin-top: 0em;\n",
       "        display: block;\n",
       "    }\n",
       "    h2 {\n",
       "        font-family: 'Fenix', serif;\n",
       "        text-indent:1em;\n",
       "        text-align:center;\n",
       "    }\n",
       "    .text_cell_render h2 {\n",
       "        font-weight: 200;\n",
       "        font-size: 28pt;\n",
       "        line-height: 100%;\n",
       "        color: rgb(8, 66, 133);\n",
       "        margin-bottom: 1.5em;\n",
       "        margin-top: 0.5em;\n",
       "        display: block;\n",
       "    }\n",
       "    h3 {\n",
       "        font-family: 'Fenix', serif;\n",
       "        %margin-top:12px;\n",
       "        %margin-bottom: 3px;\n",
       "    }\n",
       "    .text_cell_render h3 {\n",
       "        font-weight: 300;\n",
       "        font-size: 18pt;\n",
       "        line-height: 100%;\n",
       "        color: rgb(8, 66, 133);\n",
       "        margin-bottom: 0.5em;\n",
       "        margin-top: 2em;\n",
       "        display: block;\n",
       "    }\n",
       "    h4 {\n",
       "        font-family: 'Fenix', serif;\n",
       "    }\n",
       "    .text_cell_render h4 {\n",
       "        font-weight: 300;\n",
       "        font-size: 16pt;\n",
       "        color: rgb(8, 66, 133);\n",
       "        margin-bottom: 0.5em;\n",
       "        margin-top: 0.5em;\n",
       "        display: block;\n",
       "    }\n",
       "    h5 {\n",
       "        font-family: 'Alegreya Sans', sans-serif;\n",
       "    }\n",
       "    .text_cell_render h5 {\n",
       "        font-weight: 300;\n",
       "        font-style: normal;\n",
       "        font-size: 16pt;\n",
       "        margin-bottom: 0em;\n",
       "        margin-top: 1.5em;\n",
       "        display: block;\n",
       "        }\n",
       "    div.text_cell_render{\n",
       "        font-family: 'Alegreya Sans',Computer Modern, \"Helvetica Neue\", Arial, Helvetica, Geneva, sans-serif;\n",
       "        line-height: 145%;\n",
       "        font-size: 130%;\n",
       "        width:900px;\n",
       "        margin-left:auto;\n",
       "        margin-right:auto;\n",
       "        %text-align:justify;\n",
       "        %text-justify:inter-word;\n",
       "    }\n",
       "    \n",
       "    \n",
       "    code{\n",
       "      font-size: 78%;\n",
       "    }\n",
       "    .rendered_html code{\n",
       "        background-color: transparent;\n",
       "        white-space: inherit;   \n",
       "    }\n",
       "    .prompt{\n",
       "        display: None;\n",
       "     }\n",
       "    .rendered_html code{\n",
       "    background-color: transparent;\n",
       "    }\n",
       "\n",
       "    blockquote{\n",
       "      display:block;\n",
       "      background: #f3f3f3;\n",
       "      font-family: \"Open sans\",verdana,arial,sans-serif;\n",
       "      width:610px;\n",
       "      padding: 15px 15px 15px 15px;\n",
       "      text-align:justify;\n",
       "      text-justify:inter-word;\n",
       "      }\n",
       "      blockquote p {\n",
       "        margin-bottom: 0;\n",
       "        line-height: 125%;\n",
       "        font-size: 100%;\n",
       "      }\n",
       "   /* element.style {\n",
       "    } */\n",
       "</style>\n",
       "<script>\n",
       "    MathJax.Hub.Config({\n",
       "                        TeX: {\n",
       "                           extensions: [\"AMSmath.js\"]\n",
       "                           },\n",
       "                tex2jax: {\n",
       "                    inlineMath: [ [\"$\",\"$\"], [\"\\\\(\",\"\\\\)\"] ],\n",
       "                    displayMath: [ [\"$$\",\"$$\"], [\"\\\\[\",\"\\\\]\"] ]\n",
       "                },\n",
       "                displayAlign: \"center\", // Change this to \"center\" to center equations.\n",
       "                \"HTML-CSS\": {\n",
       "                    styles: {\".MathJax_Display\": {\"margin\": 4}}\n",
       "                }\n",
       "        });\n",
       "</script>\n"
      ],
      "text/plain": [
       "<IPython.core.display.HTML object>"
      ]
     },
     "execution_count": 2,
     "metadata": {},
     "output_type": "execute_result"
    }
   ],
   "source": [
    "from IPython.core.display import HTML\n",
    "def  css_styling():\n",
    "    styles = open(\"./custom.css\", \"r\").read()\n",
    "    return HTML(styles)\n",
    "css_styling()"
   ]
  }
 ],
 "metadata": {
  "kernelspec": {
   "display_name": "Python [conda env:tensor]",
   "language": "python",
   "name": "conda-env-tensor-py"
  },
  "language_info": {
   "codemirror_mode": {
    "name": "ipython",
    "version": 3
   },
   "file_extension": ".py",
   "mimetype": "text/x-python",
   "name": "python",
   "nbconvert_exporter": "python",
   "pygments_lexer": "ipython3",
   "version": "3.6.7"
  }
 },
 "nbformat": 4,
 "nbformat_minor": 1
}
