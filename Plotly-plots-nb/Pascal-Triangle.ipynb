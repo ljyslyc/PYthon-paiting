{
 "cells": [
  {
   "cell_type": "markdown",
   "metadata": {},
   "source": [
    "## Pascal  Triangle ##"
   ]
  },
  {
   "cell_type": "markdown",
   "metadata": {},
   "source": [
    "In this IPython Notebook we insert a truncated [Pascal triangle](https://en.wikipedia.org/wiki/Pascal%27s_triangle), with base containing $n$ elements (n an odd integer), in a masked numpy array\n",
    "and plot it as a Plotly Heatmap."
   ]
  },
  {
   "cell_type": "code",
   "execution_count": 1,
   "metadata": {
    "collapsed": true
   },
   "outputs": [],
   "source": [
    "import numpy as np"
   ]
  },
  {
   "cell_type": "code",
   "execution_count": 4,
   "metadata": {
    "collapsed": true
   },
   "outputs": [],
   "source": [
    "def Pascal_array(n):# insert the Pascal triangle in a numpy array (m,n)\n",
    "    if not n%2:\n",
    "        raise ValueError('n must be an odd integer')\n",
    "    m=(n-1)/2+1    \n",
    "    T=np.zeros((m,n), int)\n",
    "    c=m-1\n",
    "    T[0][c]=1\n",
    "    T[1][c-1]=T[1][c+1]=1\n",
    "\n",
    "    for i in range(2, m-1):\n",
    "        for j in range(c-i, c+i+1):\n",
    "            T[i][j]=T[i-1][j-1]+T[i-1][j+1]\n",
    "    i=m-1        \n",
    "    T[i][0]=T[i][n-1]=1\n",
    "\n",
    "    for j in range(2, n-2):\n",
    "        T[i][j]=T[i-1][j-1]+T[i-1][j+1] \n",
    "    return T    "
   ]
  },
  {
   "cell_type": "code",
   "execution_count": 5,
   "metadata": {
    "collapsed": false
   },
   "outputs": [],
   "source": [
    "T=Pascal_array(21)\n",
    "n=T.shape[1]"
   ]
  },
  {
   "cell_type": "code",
   "execution_count": 6,
   "metadata": {
    "collapsed": false
   },
   "outputs": [],
   "source": [
    "Ttext=[]\n",
    "m=T.shape[0]\n",
    "for k in range(m):\n",
    "    Ttext.append(['' if item==0 else str(item) for item in T[k]])# convert values to strings in order to annotate the heatmap cells\n",
    "  "
   ]
  },
  {
   "cell_type": "code",
   "execution_count": 7,
   "metadata": {
    "collapsed": true
   },
   "outputs": [],
   "source": [
    "T= np.ma.masked_equal(T, 0)"
   ]
  },
  {
   "cell_type": "code",
   "execution_count": 8,
   "metadata": {
    "collapsed": true
   },
   "outputs": [],
   "source": [
    "X=range(n)\n",
    "Y=range(m)"
   ]
  },
  {
   "cell_type": "markdown",
   "metadata": {},
   "source": [
    "The colorscale to plot the Pascal triangle as a heatmap is defined as:"
   ]
  },
  {
   "cell_type": "code",
   "execution_count": 10,
   "metadata": {
    "collapsed": true
   },
   "outputs": [],
   "source": [
    "colorsc=[[0.0, 'rgb(77.400000000000006, 58.0, 57.800000000000004)'], \n",
    "         [0.33333333, 'rgb(164.19999999999996, 105.99999999999999, 105.40000000000001)'],\n",
    "         [0.66666, 'rgb(207.59999999999999, 130.0, 129.20000000000002)'], \n",
    "         [1.0, 'rgb(251.0, 154.0, 153.0)']]"
   ]
  },
  {
   "cell_type": "code",
   "execution_count": 19,
   "metadata": {
    "collapsed": false
   },
   "outputs": [
    {
     "data": {
      "text/html": [
       "<iframe id=\"igraph\" scrolling=\"no\" style=\"border:none;\"seamless=\"seamless\" src=\"https://plot.ly/~empet/4297.embed\" height=\"450px\" width=\"800px\"></iframe>"
      ],
      "text/plain": [
       "<plotly.tools.PlotlyDisplay object>"
      ]
     },
     "execution_count": 19,
     "metadata": {},
     "output_type": "execute_result"
    }
   ],
   "source": [
    "import plotly.plotly as py\n",
    "from plotly.graph_objs import *\n",
    "\n",
    "axisx=dict(showgrid=False,\n",
    "          zeroline=False,\n",
    "          showline=False,\n",
    "          ticks='',\n",
    "          showticklabels=False)\n",
    "dy=dict(autorange='reversed')\n",
    "\n",
    "\n",
    "data = Data([\n",
    "    Heatmap(\n",
    "        z=T,\n",
    "        colorscale=colorsc,\n",
    "        reversescale=True,\n",
    "        connectgaps=False,\n",
    "    )\n",
    "])\n",
    "layout = Layout(\n",
    "    title=\"Pascal Triangle\",\n",
    "    showlegend=False,\n",
    "    autosize=True,\n",
    "    width=800,\n",
    "    height=450,\n",
    "    xaxis=XAxis(axisx),\n",
    "    yaxis=YAxis(dict(axisx, **dy)),# concatenate the two dicts\n",
    "    \n",
    "   \n",
    "    margin=Margin(\n",
    "        l=40,\n",
    "        r=20,\n",
    "        b=30,\n",
    "        t=60,\n",
    "       \n",
    "    ),\n",
    ")\n",
    "\n",
    "fig = Figure(data=data, layout=layout)    \n",
    "annotations = Annotations([\n",
    "    Annotation(\n",
    "            showarrow=False, \n",
    "            text=\"Pascal triangle: <a href='https://en.wikipedia.org/wiki/Pascal%27s_triangle'> [1]</a>\",  \n",
    "            xref='paper',     \n",
    "            yref='paper',     \n",
    "            x=0,  \n",
    "            y=-0.09,  \n",
    "            xanchor='left',   \n",
    "            yanchor='bottom',  \n",
    "            font=Font(\n",
    "            size=0 )\n",
    "            )\n",
    "])\n",
    "\n",
    "#Insert  text from Ttext in the corresponding cells\n",
    "for i, row in enumerate(Ttext):\n",
    "    for j, s in enumerate(row):\n",
    "        annotations.append(\n",
    "            Annotation(\n",
    "                text=s, \n",
    "                x=X[j], y=Y[i],\n",
    "                xref='x1', yref='y1',\n",
    "                font=dict(color='white' if T[i][j]>35 else 'rgb(25,25,25)'),\n",
    "                showarrow=False)\n",
    "        )\n",
    "        \n",
    "fig['layout'].update(\n",
    "annotations=annotations\n",
    ")  \n",
    "py.sign_in('empet', 'my_api_key')\n",
    "py.iplot(fig, filename='Pascal-triangle', width=1000)"
   ]
  },
  {
   "cell_type": "code",
   "execution_count": 20,
   "metadata": {
    "collapsed": false
   },
   "outputs": [
    {
     "data": {
      "text/html": [
       "<style>\n",
       "    /*body {\n",
       "        background-color: #F5F5F5;\n",
       "    }*/\n",
       "    div.cell{\n",
       "        width: 900px;\n",
       "        margin-left: 13% !important;\n",
       "        margin-right: auto;\n",
       "    }\n",
       "    #notebook li { /* More space between bullet points */\n",
       "    margin-top:0.8em;\n",
       "    }\n",
       "\n",
       "    h1 {\n",
       "        font-family: 'Alegreya Sans', sans-serif;\n",
       "    }\n",
       "    .text_cell_render h1 {\n",
       "        font-weight: 200;\n",
       "        font-size: 40pt;\n",
       "        line-height: 100%;\n",
       "        color: rgb(8, 66, 133);\n",
       "        margin-bottom: 0em;\n",
       "        margin-top: 0em;\n",
       "        display: block;\n",
       "    }\n",
       "    h2 {\n",
       "        font-family: 'Fenix', serif;\n",
       "        text-indent:1em;\n",
       "        text-align:center;\n",
       "    }\n",
       "    .text_cell_render h2 {\n",
       "        font-weight: 200;\n",
       "        font-size: 28pt;\n",
       "        line-height: 100%;\n",
       "        color: rgb(8, 66, 133);\n",
       "        margin-bottom: 1.5em;\n",
       "        margin-top: 0.5em;\n",
       "        display: block;\n",
       "    }\n",
       "    h3 {\n",
       "        font-family: 'Fenix', serif;\n",
       "        %margin-top:12px;\n",
       "        %margin-bottom: 3px;\n",
       "    }\n",
       "    .text_cell_render h3 {\n",
       "        font-weight: 300;\n",
       "        font-size: 18pt;\n",
       "        line-height: 100%;\n",
       "        color: rgb(8, 66, 133);\n",
       "        margin-bottom: 0.5em;\n",
       "        margin-top: 2em;\n",
       "        display: block;\n",
       "    }\n",
       "    h4 {\n",
       "        font-family: 'Fenix', serif;\n",
       "    }\n",
       "    .text_cell_render h4 {\n",
       "        font-weight: 300;\n",
       "        font-size: 16pt;\n",
       "        color: rgb(8, 66, 133);\n",
       "        margin-bottom: 0.5em;\n",
       "        margin-top: 0.5em;\n",
       "        display: block;\n",
       "    }\n",
       "    h5 {\n",
       "        font-family: 'Alegreya Sans', sans-serif;\n",
       "    }\n",
       "    .text_cell_render h5 {\n",
       "        font-weight: 300;\n",
       "        font-style: normal;\n",
       "        font-size: 16pt;\n",
       "        margin-bottom: 0em;\n",
       "        margin-top: 1.5em;\n",
       "        display: block;\n",
       "        }\n",
       "    div.text_cell_render{\n",
       "        font-family: 'Alegreya Sans',Computer Modern, \"Helvetica Neue\", Arial, Helvetica, Geneva, sans-serif;\n",
       "        line-height: 145%;\n",
       "        font-size: 130%;\n",
       "        width:900px;\n",
       "        margin-left:auto;\n",
       "        margin-right:auto;\n",
       "        %text-align:justify;\n",
       "        %text-justify:inter-word;\n",
       "    }\n",
       "    \n",
       "    \n",
       "    code{\n",
       "      font-size: 78%;\n",
       "    }\n",
       "    .rendered_html code{\n",
       "        background-color: transparent;\n",
       "        white-space: inherit;   \n",
       "    }\n",
       "    .prompt{\n",
       "        display: None;\n",
       "     }\n",
       "    .rendered_html code{\n",
       "    background-color: transparent;\n",
       "    }\n",
       "\n",
       "    blockquote{\n",
       "      display:block;\n",
       "      background: #f3f3f3;\n",
       "      font-family: \"Open sans\",verdana,arial,sans-serif;\n",
       "      width:610px;\n",
       "      padding: 15px 15px 15px 15px;\n",
       "      text-align:justify;\n",
       "      text-justify:inter-word;\n",
       "      }\n",
       "      blockquote p {\n",
       "        margin-bottom: 0;\n",
       "        line-height: 125%;\n",
       "        font-size: 100%;\n",
       "      }\n",
       "   /* element.style {\n",
       "    } */\n",
       "</style>\n",
       "<script>\n",
       "    MathJax.Hub.Config({\n",
       "                        TeX: {\n",
       "                           extensions: [\"AMSmath.js\"]\n",
       "                           },\n",
       "                tex2jax: {\n",
       "                    inlineMath: [ [\"$\",\"$\"], [\"\\\\(\",\"\\\\)\"] ],\n",
       "                    displayMath: [ [\"$$\",\"$$\"], [\"\\\\[\",\"\\\\]\"] ]\n",
       "                },\n",
       "                displayAlign: \"center\", // Change this to \"center\" to center equations.\n",
       "                \"HTML-CSS\": {\n",
       "                    styles: {\".MathJax_Display\": {\"margin\": 4}}\n",
       "                }\n",
       "        });\n",
       "</script>\n"
      ],
      "text/plain": [
       "<IPython.core.display.HTML object>"
      ]
     },
     "execution_count": 20,
     "metadata": {},
     "output_type": "execute_result"
    }
   ],
   "source": [
    "from IPython.core.display import HTML\n",
    "def  css_styling():\n",
    "    styles = open(\"./custom.css\", \"r\").read()\n",
    "    return HTML(styles)\n",
    "css_styling()"
   ]
  }
 ],
 "metadata": {
  "kernelspec": {
   "display_name": "Python 2",
   "language": "python",
   "name": "python2"
  },
  "language_info": {
   "codemirror_mode": {
    "name": "ipython",
    "version": 2
   },
   "file_extension": ".py",
   "mimetype": "text/x-python",
   "name": "python",
   "nbconvert_exporter": "python",
   "pygments_lexer": "ipython2",
   "version": "2.7.9"
  }
 },
 "nbformat": 4,
 "nbformat_minor": 0
}
