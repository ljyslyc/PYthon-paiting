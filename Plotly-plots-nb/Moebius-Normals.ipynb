{
 "cells": [
  {
   "cell_type": "markdown",
   "metadata": {},
   "source": [
    "## Normals along the central circle of the Moebius strip ##"
   ]
  },
  {
   "cell_type": "markdown",
   "metadata": {},
   "source": [
    "The aim of this notebook is twofold: \n",
    "- first, to show how we can define a standard 3d arrow and move it to be placed  at different positions in space;\n",
    "- second, to illustrate what the non-orientability of this  surface means."
   ]
  },
  {
   "cell_type": "code",
   "execution_count": 34,
   "metadata": {
    "collapsed": false
   },
   "outputs": [],
   "source": [
    "import numpy as np\n",
    "import plotly.plotly as py"
   ]
  },
  {
   "cell_type": "markdown",
   "metadata": {},
   "source": [
    "A 3d arrow is designed as a right cone and a disk as its base. We define the standard cone, as  the cone of vertex, `Vert(0,0, headsize)`, and angle `theta` between the symmetry axis, Oz, and any generatrice:"
   ]
  },
  {
   "cell_type": "code",
   "execution_count": 35,
   "metadata": {
    "collapsed": false
   },
   "outputs": [],
   "source": [
    "def arrow3d(headsize, theta):\n",
    "    r=headsize*np.tan(theta)\n",
    "    u=np.linspace(0,2*np.pi, 60)\n",
    "    v=np.linspace(0, 1, 15)\n",
    "    U,V=np.meshgrid(u,v)\n",
    "    #parameterization of the standard cone \n",
    "    x=r*V*np.cos(U)\n",
    "    y=r*V*np.sin(U)\n",
    "    z=headsize*(1-V)\n",
    "    cone=np.stack((x,y,z)) #shape(3, m, n)\n",
    "    w=np.linspace(0, r, 10)\n",
    "    u, w=np.meshgrid(u,w)\n",
    "    #parameterization of the base disk\n",
    "    xx=w*np.cos(u)\n",
    "    yy=w*np.sin(u)\n",
    "    zz=np.zeros(w.shape)\n",
    "    disk=np.stack((xx,yy,zz))\n",
    "    return cone, disk"
   ]
  },
  {
   "cell_type": "markdown",
   "metadata": {},
   "source": [
    "Place a 3d arrow along a line, starting from a point on that line, called `origin` below:"
   ]
  },
  {
   "cell_type": "code",
   "execution_count": 36,
   "metadata": {
    "collapsed": true
   },
   "outputs": [],
   "source": [
    "def place_arrow3d(start, end, headsize, theta):\n",
    "    #Move the standard arrow to a position in the 3d space, \n",
    "    #that is  computed from the inputted data\n",
    "    \n",
    "    #start = array of shape (3,) = the starting point of the arrow's support line\n",
    "    #end = array of shape(3, ) = the end point of the segment of line\n",
    "    #headsize\n",
    "    #theta=the angle between the symmetry axis and a generatrice\n",
    "    \n",
    "    epsilon=1.0e-04 # any coordinate less than epsilon is considered 0\n",
    "    \n",
    "    cone, disk=arrow3d(headsize, theta)#get the standard cone\n",
    "    arr_dir=end-start# the arrow direction\n",
    "    if np.linalg.norm(arr_dir) > epsilon:\n",
    "        #define a right orthonormal basis (u1, u2, u3), with u3 the unit vector of the arrow_dir\n",
    "        u3=arr_dir/np.linalg.norm(arr_dir)\n",
    "        origin=end-headsize * u3 #the point where the arrow starts on the supp line\n",
    "        a, b, c = u3\n",
    "        if abs(a) > epsilon or abs(b) > epsilon:\n",
    "            v1=np.array([-b, a, 0])# v1 orthogonal to u3\n",
    "            u1=v1/np.linalg.norm(v1)\n",
    "        else: \n",
    "            u1=np.array([1., 0,  0])\n",
    "        u2=np.cross(u3, u1)# this def ensures that the orthonormal basis is a right one\n",
    "        T=np.vstack((u1, u2, u3)).T   #Transformation T, T(e_i)=u_i, to be applied to the standard cone \n",
    "        cone=np.einsum('ji, imn -> jmn', T, cone)#Transform the standard cone\n",
    "        disk=np.einsum('ji, imn -> jmn', T, disk)#Transform the cone base\n",
    "        cone=np.apply_along_axis(lambda a, v: a+v, 0, cone, origin)#translate the cone; \n",
    "                                                                   #dir translation, v=vec(O,origin)\n",
    "        disk=np.apply_along_axis(lambda a, v: a+v, 0, disk, origin)# translate the cone base\n",
    "        return  origin, cone, disk \n",
    "    \n",
    "    else:  return (0, )\n",
    "    "
   ]
  },
  {
   "cell_type": "markdown",
   "metadata": {},
   "source": [
    "Set the layout of the Plotly plot:"
   ]
  },
  {
   "cell_type": "code",
   "execution_count": 37,
   "metadata": {
    "collapsed": true
   },
   "outputs": [],
   "source": [
    "axis = dict(\n",
    "showbackground=True, \n",
    "backgroundcolor=\"rgb(230, 230,230)\",\n",
    "gridcolor=\"rgb(255, 255, 255)\",      \n",
    "zerolinecolor=\"rgb(255, 255, 255)\",  \n",
    "    )\n",
    "\n",
    "layout = dict(title='<br>A vector field along the central circle of the Moebius strip',\n",
    "              font=dict(family='Balto'),\n",
    "              autosize=False,\n",
    "              width=700,\n",
    "              height=700,\n",
    "              showlegend=False,\n",
    "              scene=dict(camera = dict(eye=dict(x=1.25, y=1.25, z=0.55)),\n",
    "                         aspectratio=dict(x=1, y=1, z=0.5),\n",
    "                         xaxis=axis,\n",
    "                         yaxis=axis, \n",
    "                         zaxis=dict(axis, **{'tickvals':[-0.6, -0.3, 0, 0.3, 0.6]}),\n",
    "                        )\n",
    "               )"
   ]
  },
  {
   "cell_type": "markdown",
   "metadata": {},
   "source": [
    "Colorscale for the Moebius strip:"
   ]
  },
  {
   "cell_type": "code",
   "execution_count": 38,
   "metadata": {
    "collapsed": true
   },
   "outputs": [],
   "source": [
    "pl_balance=[[0.0, 'rgb(23, 28, 66)'], #  cmocean\n",
    "            [0.1, 'rgb(41, 61, 150)'],\n",
    "            [0.2, 'rgb(21, 112, 187)'],\n",
    "            [0.3, 'rgb(89, 155, 186)'],\n",
    "            [0.4, 'rgb(169, 194, 202)'],\n",
    "            [0.5, 'rgb(240, 236, 235)'],\n",
    "            [0.6, 'rgb(219, 177, 163)'],\n",
    "            [0.7, 'rgb(201, 118, 90)'],\n",
    "            [0.8, 'rgb(179, 56, 38)'],\n",
    "            [0.9, 'rgb(125, 13, 41)'],\n",
    "            [1.0, 'rgb(60, 9, 17)']\n",
    "           ]"
   ]
  },
  {
   "cell_type": "markdown",
   "metadata": {},
   "source": [
    "Parameterize the Moebius strip and define it as a Plotly surface:"
   ]
  },
  {
   "cell_type": "code",
   "execution_count": 39,
   "metadata": {
    "collapsed": false
   },
   "outputs": [],
   "source": [
    "u=np.linspace(0, 2*np.pi, 36)\n",
    "v=np.linspace(-0.5, 0.5, 10)\n",
    "u,v=np.meshgrid(u,v)\n",
    "tp=1+v*np.cos(u/2.)\n",
    "x=tp*np.cos(u)\n",
    "y=tp*np.sin(u)\n",
    "z=v*np.sin(u/2.)\n",
    "moebius=dict(type='surface',\n",
    "            x=x,\n",
    "            y=y,\n",
    "            z=z,\n",
    "            colorscale=pl_balance,\n",
    "            showscale=True,\n",
    "            colorbar=dict(thickness=20, lenmode='fraction', len=0.75, ticklen=4))"
   ]
  },
  {
   "cell_type": "markdown",
   "metadata": {},
   "source": [
    "Define a unicolor colorscale, to plot the cones and disks defining the 3d arrows:"
   ]
  },
  {
   "cell_type": "code",
   "execution_count": 40,
   "metadata": {
    "collapsed": true
   },
   "outputs": [],
   "source": [
    "pl_c=[[0.0, 'rgb(179, 56, 38)'],\n",
    "      [1.0, 'rgb(179, 56, 38)']]"
   ]
  },
  {
   "cell_type": "markdown",
   "metadata": {},
   "source": [
    "The following function returns the Plotly traces that represent a 3d arrow:"
   ]
  },
  {
   "cell_type": "code",
   "execution_count": 41,
   "metadata": {
    "collapsed": false
   },
   "outputs": [],
   "source": [
    "def get_normals(start, origin, cone, disk, colorscale=pl_c):\n",
    "    tr_cone=dict(type='surface', \n",
    "                 x=cone[0,:,:],\n",
    "                 y=cone[1,:,:],\n",
    "                 z=cone[2,:,:],\n",
    "                 colorscale=colorscale,\n",
    "                 showscale=False)\n",
    "    tr_disk=dict(type='surface',\n",
    "                 x=disk[0,:,:],\n",
    "                 y=disk[1,:,:],\n",
    "                 z=disk[2,:,:],\n",
    "                 colorscale=colorscale,\n",
    "                 showscale=False)\n",
    "    tr_line=dict(type='scatter3d',\n",
    "                 x=[start[0], origin[0]],\n",
    "                 y=[start[1], origin[1]],\n",
    "                 z=[start[2], origin[2]],\n",
    "                 name='', \n",
    "                 mode='lines',\n",
    "                 line=dict(width=3, color='rgb(60, 9, 17)')\n",
    "                 )\n",
    "    return [tr_line, tr_cone, tr_disk]#return a list that is concatenated to data            \n",
    "                "
   ]
  },
  {
   "cell_type": "markdown",
   "metadata": {},
   "source": [
    "Define the normals along the central circle, i.e. the curve corresponding to v=0 in the Moebius strip parameterization:"
   ]
  },
  {
   "cell_type": "code",
   "execution_count": 42,
   "metadata": {
    "collapsed": false
   },
   "outputs": [],
   "source": [
    "u=np.linspace(0, 2*np.pi, 36)\n",
    "xx=np.cos(u)\n",
    "yy=np.sin(u)\n",
    "zz=np.zeros(xx.shape)\n",
    "starters=np.vstack((xx,yy,zz)).T\n",
    "a=0.35\n",
    "#Normal coordinates\n",
    "Nx=2*np.cos(u)*np.sin(u/2)\n",
    "Ny=np.cos(u/2)-np.cos(3*u/2)\n",
    "Nz=-2*np.cos(u)\n",
    "ends=starters+a*np.vstack((Nx,Ny, Nz)).T"
   ]
  },
  {
   "cell_type": "code",
   "execution_count": 43,
   "metadata": {
    "collapsed": false
   },
   "outputs": [],
   "source": [
    "data=[moebius]"
   ]
  },
  {
   "cell_type": "code",
   "execution_count": 44,
   "metadata": {
    "collapsed": false
   },
   "outputs": [],
   "source": [
    "for j in range(ends.shape[0]):\n",
    "    arr=place_arrow3d(starters[j], ends[j], 0.15, np.pi/15)\n",
    "    if len(arr)==3:# get normals at the regular points on a surface, i.e. where ||Normalvector|| not = 0\n",
    "        data+=get_normals(starters[j], arr[0], arr[1], arr[2])"
   ]
  },
  {
   "cell_type": "code",
   "execution_count": 45,
   "metadata": {
    "collapsed": false
   },
   "outputs": [
    {
     "name": "stdout",
     "output_type": "stream",
     "text": [
      "The draw time for this plot will be slow for all clients.\n"
     ]
    },
    {
     "data": {
      "text/html": [
       "<iframe id=\"igraph\" scrolling=\"no\" style=\"border:none;\" seamless=\"seamless\" src=\"https://plot.ly/~empet/14151.embed\" height=\"700px\" width=\"700px\"></iframe>"
      ],
      "text/plain": [
       "<plotly.tools.PlotlyDisplay object>"
      ]
     },
     "execution_count": 45,
     "metadata": {},
     "output_type": "execute_result"
    }
   ],
   "source": [
    "fig=dict(data=data, layout=layout)\n",
    "py.sign_in('empet','api_key' )\n",
    "py.iplot(fig, filename='normalsMob')"
   ]
  },
  {
   "cell_type": "code",
   "execution_count": 46,
   "metadata": {
    "collapsed": false
   },
   "outputs": [
    {
     "data": {
      "text/html": [
       "<style>\n",
       "    /*body {\n",
       "        background-color: #F5F5F5;\n",
       "    }*/\n",
       "    div.cell{\n",
       "        width: 900px;\n",
       "        margin-left: 13% !important;\n",
       "        margin-right: auto;\n",
       "    }\n",
       "    #notebook li { /* More space between bullet points */\n",
       "    margin-top:0.8em;\n",
       "    }\n",
       "\n",
       "    h1 {\n",
       "        font-family: 'Alegreya Sans', sans-serif;\n",
       "    }\n",
       "    .text_cell_render h1 {\n",
       "        font-weight: 200;\n",
       "        font-size: 40pt;\n",
       "        line-height: 100%;\n",
       "        color: rgb(8, 66, 133);\n",
       "        margin-bottom: 0em;\n",
       "        margin-top: 0em;\n",
       "        display: block;\n",
       "    }\n",
       "    h2 {\n",
       "        font-family: 'Fenix', serif;\n",
       "        text-indent:1em;\n",
       "        text-align:center;\n",
       "    }\n",
       "    .text_cell_render h2 {\n",
       "        font-weight: 200;\n",
       "        font-size: 28pt;\n",
       "        line-height: 100%;\n",
       "        color: rgb(8, 66, 133);\n",
       "        margin-bottom: 1.5em;\n",
       "        margin-top: 0.5em;\n",
       "        display: block;\n",
       "    }\n",
       "    h3 {\n",
       "        font-family: 'Fenix', serif;\n",
       "        %margin-top:12px;\n",
       "        %margin-bottom: 3px;\n",
       "    }\n",
       "    .text_cell_render h3 {\n",
       "        font-weight: 300;\n",
       "        font-size: 18pt;\n",
       "        line-height: 100%;\n",
       "        color: rgb(8, 66, 133);\n",
       "        margin-bottom: 0.5em;\n",
       "        margin-top: 2em;\n",
       "        display: block;\n",
       "    }\n",
       "    h4 {\n",
       "        font-family: 'Fenix', serif;\n",
       "    }\n",
       "    .text_cell_render h4 {\n",
       "        font-weight: 300;\n",
       "        font-size: 16pt;\n",
       "        color: rgb(8, 66, 133);\n",
       "        margin-bottom: 0.5em;\n",
       "        margin-top: 0.5em;\n",
       "        display: block;\n",
       "    }\n",
       "    h5 {\n",
       "        font-family: 'Alegreya Sans', sans-serif;\n",
       "    }\n",
       "    .text_cell_render h5 {\n",
       "        font-weight: 300;\n",
       "        font-style: normal;\n",
       "        font-size: 16pt;\n",
       "        margin-bottom: 0em;\n",
       "        margin-top: 1.5em;\n",
       "        display: block;\n",
       "        }\n",
       "    div.text_cell_render{\n",
       "        font-family: 'Alegreya Sans',Computer Modern, \"Helvetica Neue\", Arial, Helvetica, Geneva, sans-serif;\n",
       "        line-height: 145%;\n",
       "        font-size: 130%;\n",
       "        width:900px;\n",
       "        margin-left:auto;\n",
       "        margin-right:auto;\n",
       "        %text-align:justify;\n",
       "        %text-justify:inter-word;\n",
       "    }\n",
       "    \n",
       "    \n",
       "    code{\n",
       "      font-size: 78%;\n",
       "    }\n",
       "    .rendered_html code{\n",
       "        background-color: transparent;\n",
       "        white-space: inherit;   \n",
       "    }\n",
       "    .prompt{\n",
       "        display: None;\n",
       "     }\n",
       "    .rendered_html code{\n",
       "    background-color: transparent;\n",
       "    }\n",
       "\n",
       "    blockquote{\n",
       "      display:block;\n",
       "      background: #f3f3f3;\n",
       "      font-family: \"Open sans\",verdana,arial,sans-serif;\n",
       "      width:610px;\n",
       "      padding: 15px 15px 15px 15px;\n",
       "      text-align:justify;\n",
       "      text-justify:inter-word;\n",
       "      }\n",
       "      blockquote p {\n",
       "        margin-bottom: 0;\n",
       "        line-height: 125%;\n",
       "        font-size: 100%;\n",
       "      }\n",
       "   /* element.style {\n",
       "    } */\n",
       "</style>\n",
       "<script>\n",
       "    MathJax.Hub.Config({\n",
       "                        TeX: {\n",
       "                           extensions: [\"AMSmath.js\"]\n",
       "                           },\n",
       "                tex2jax: {\n",
       "                    inlineMath: [ [\"$\",\"$\"], [\"\\\\(\",\"\\\\)\"] ],\n",
       "                    displayMath: [ [\"$$\",\"$$\"], [\"\\\\[\",\"\\\\]\"] ]\n",
       "                },\n",
       "                displayAlign: \"center\", // Change this to \"center\" to center equations.\n",
       "                \"HTML-CSS\": {\n",
       "                    styles: {\".MathJax_Display\": {\"margin\": 4}}\n",
       "                }\n",
       "        });\n",
       "</script>\n"
      ],
      "text/plain": [
       "<IPython.core.display.HTML object>"
      ]
     },
     "execution_count": 46,
     "metadata": {},
     "output_type": "execute_result"
    }
   ],
   "source": [
    "from IPython.core.display import HTML\n",
    "def  css_styling():\n",
    "    styles = open(\"./custom.css\", \"r\").read()\n",
    "    return HTML(styles)\n",
    "css_styling()"
   ]
  }
 ],
 "metadata": {
  "kernelspec": {
   "display_name": "Python 2",
   "language": "python",
   "name": "python2"
  },
  "language_info": {
   "codemirror_mode": {
    "name": "ipython",
    "version": 2
   },
   "file_extension": ".py",
   "mimetype": "text/x-python",
   "name": "python",
   "nbconvert_exporter": "python",
   "pygments_lexer": "ipython2",
   "version": "2.7.11"
  }
 },
 "nbformat": 4,
 "nbformat_minor": 0
}
