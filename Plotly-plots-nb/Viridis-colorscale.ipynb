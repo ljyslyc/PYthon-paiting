{
 "cells": [
  {
   "cell_type": "markdown",
   "metadata": {},
   "source": [
    "## Viridis type colorscale for Plotly.<br> Surface, contour plot and heatmap with viridis. Streamlines ##"
   ]
  },
  {
   "cell_type": "markdown",
   "metadata": {},
   "source": [
    "### Viridis type colorscale definition ###"
   ]
  },
  {
   "cell_type": "markdown",
   "metadata": {},
   "source": [
    " Starting with  the upcoming  [matplotlib 2.0](http://matplotlib.org/style_changes.html), \n",
    "the  default colormap will be `viridis`, defined [here](https://raw.githubusercontent.com/BIDS/colormap/master/option_d.py) as `option_d`.\n",
    "\n",
    "In this IPython Notebook we define the coresponding `viridis colorscale` for `plotly`. "
   ]
  },
  {
   "cell_type": "code",
   "execution_count": 1,
   "metadata": {
    "collapsed": true
   },
   "outputs": [],
   "source": [
    "import numpy as np\n",
    "import matplotlib.pyplot as plt\n",
    "%matplotlib inline"
   ]
  },
  {
   "cell_type": "markdown",
   "metadata": {},
   "source": [
    "Load and run (after  some minor changes) the `option_d.py` file: "
   ]
  },
  {
   "cell_type": "code",
   "execution_count": 2,
   "metadata": {
    "collapsed": true
   },
   "outputs": [],
   "source": [
    "# %load https://raw.githubusercontent.com/BIDS/colormap/master/option_d.py\n",
    "\n",
    "from matplotlib.colors import LinearSegmentedColormap\n",
    "\n",
    "cm_data = [[ 0.26700401,  0.00487433,  0.32941519],\n",
    "       [ 0.26851048,  0.00960483,  0.33542652],\n",
    "       [ 0.26994384,  0.01462494,  0.34137895],\n",
    "       [ 0.27130489,  0.01994186,  0.34726862],\n",
    "       [ 0.27259384,  0.02556309,  0.35309303],\n",
    "       [ 0.27380934,  0.03149748,  0.35885256],\n",
    "       [ 0.27495242,  0.03775181,  0.36454323],\n",
    "       [ 0.27602238,  0.04416723,  0.37016418],\n",
    "       [ 0.2770184 ,  0.05034437,  0.37571452],\n",
    "       [ 0.27794143,  0.05632444,  0.38119074],\n",
    "       [ 0.27879067,  0.06214536,  0.38659204],\n",
    "       [ 0.2795655 ,  0.06783587,  0.39191723],\n",
    "       [ 0.28026658,  0.07341724,  0.39716349],\n",
    "       [ 0.28089358,  0.07890703,  0.40232944],\n",
    "       [ 0.28144581,  0.0843197 ,  0.40741404],\n",
    "       [ 0.28192358,  0.08966622,  0.41241521],\n",
    "       [ 0.28232739,  0.09495545,  0.41733086],\n",
    "       [ 0.28265633,  0.10019576,  0.42216032],\n",
    "       [ 0.28291049,  0.10539345,  0.42690202],\n",
    "       [ 0.28309095,  0.11055307,  0.43155375],\n",
    "       [ 0.28319704,  0.11567966,  0.43611482],\n",
    "       [ 0.28322882,  0.12077701,  0.44058404],\n",
    "       [ 0.28318684,  0.12584799,  0.44496   ],\n",
    "       [ 0.283072  ,  0.13089477,  0.44924127],\n",
    "       [ 0.28288389,  0.13592005,  0.45342734],\n",
    "       [ 0.28262297,  0.14092556,  0.45751726],\n",
    "       [ 0.28229037,  0.14591233,  0.46150995],\n",
    "       [ 0.28188676,  0.15088147,  0.46540474],\n",
    "       [ 0.28141228,  0.15583425,  0.46920128],\n",
    "       [ 0.28086773,  0.16077132,  0.47289909],\n",
    "       [ 0.28025468,  0.16569272,  0.47649762],\n",
    "       [ 0.27957399,  0.17059884,  0.47999675],\n",
    "       [ 0.27882618,  0.1754902 ,  0.48339654],\n",
    "       [ 0.27801236,  0.18036684,  0.48669702],\n",
    "       [ 0.27713437,  0.18522836,  0.48989831],\n",
    "       [ 0.27619376,  0.19007447,  0.49300074],\n",
    "       [ 0.27519116,  0.1949054 ,  0.49600488],\n",
    "       [ 0.27412802,  0.19972086,  0.49891131],\n",
    "       [ 0.27300596,  0.20452049,  0.50172076],\n",
    "       [ 0.27182812,  0.20930306,  0.50443413],\n",
    "       [ 0.27059473,  0.21406899,  0.50705243],\n",
    "       [ 0.26930756,  0.21881782,  0.50957678],\n",
    "       [ 0.26796846,  0.22354911,  0.5120084 ],\n",
    "       [ 0.26657984,  0.2282621 ,  0.5143487 ],\n",
    "       [ 0.2651445 ,  0.23295593,  0.5165993 ],\n",
    "       [ 0.2636632 ,  0.23763078,  0.51876163],\n",
    "       [ 0.26213801,  0.24228619,  0.52083736],\n",
    "       [ 0.26057103,  0.2469217 ,  0.52282822],\n",
    "       [ 0.25896451,  0.25153685,  0.52473609],\n",
    "       [ 0.25732244,  0.2561304 ,  0.52656332],\n",
    "       [ 0.25564519,  0.26070284,  0.52831152],\n",
    "       [ 0.25393498,  0.26525384,  0.52998273],\n",
    "       [ 0.25219404,  0.26978306,  0.53157905],\n",
    "       [ 0.25042462,  0.27429024,  0.53310261],\n",
    "       [ 0.24862899,  0.27877509,  0.53455561],\n",
    "       [ 0.2468114 ,  0.28323662,  0.53594093],\n",
    "       [ 0.24497208,  0.28767547,  0.53726018],\n",
    "       [ 0.24311324,  0.29209154,  0.53851561],\n",
    "       [ 0.24123708,  0.29648471,  0.53970946],\n",
    "       [ 0.23934575,  0.30085494,  0.54084398],\n",
    "       [ 0.23744138,  0.30520222,  0.5419214 ],\n",
    "       [ 0.23552606,  0.30952657,  0.54294396],\n",
    "       [ 0.23360277,  0.31382773,  0.54391424],\n",
    "       [ 0.2316735 ,  0.3181058 ,  0.54483444],\n",
    "       [ 0.22973926,  0.32236127,  0.54570633],\n",
    "       [ 0.22780192,  0.32659432,  0.546532  ],\n",
    "       [ 0.2258633 ,  0.33080515,  0.54731353],\n",
    "       [ 0.22392515,  0.334994  ,  0.54805291],\n",
    "       [ 0.22198915,  0.33916114,  0.54875211],\n",
    "       [ 0.22005691,  0.34330688,  0.54941304],\n",
    "       [ 0.21812995,  0.34743154,  0.55003755],\n",
    "       [ 0.21620971,  0.35153548,  0.55062743],\n",
    "       [ 0.21429757,  0.35561907,  0.5511844 ],\n",
    "       [ 0.21239477,  0.35968273,  0.55171011],\n",
    "       [ 0.2105031 ,  0.36372671,  0.55220646],\n",
    "       [ 0.20862342,  0.36775151,  0.55267486],\n",
    "       [ 0.20675628,  0.37175775,  0.55311653],\n",
    "       [ 0.20490257,  0.37574589,  0.55353282],\n",
    "       [ 0.20306309,  0.37971644,  0.55392505],\n",
    "       [ 0.20123854,  0.38366989,  0.55429441],\n",
    "       [ 0.1994295 ,  0.38760678,  0.55464205],\n",
    "       [ 0.1976365 ,  0.39152762,  0.55496905],\n",
    "       [ 0.19585993,  0.39543297,  0.55527637],\n",
    "       [ 0.19410009,  0.39932336,  0.55556494],\n",
    "       [ 0.19235719,  0.40319934,  0.55583559],\n",
    "       [ 0.19063135,  0.40706148,  0.55608907],\n",
    "       [ 0.18892259,  0.41091033,  0.55632606],\n",
    "       [ 0.18723083,  0.41474645,  0.55654717],\n",
    "       [ 0.18555593,  0.4185704 ,  0.55675292],\n",
    "       [ 0.18389763,  0.42238275,  0.55694377],\n",
    "       [ 0.18225561,  0.42618405,  0.5571201 ],\n",
    "       [ 0.18062949,  0.42997486,  0.55728221],\n",
    "       [ 0.17901879,  0.43375572,  0.55743035],\n",
    "       [ 0.17742298,  0.4375272 ,  0.55756466],\n",
    "       [ 0.17584148,  0.44128981,  0.55768526],\n",
    "       [ 0.17427363,  0.4450441 ,  0.55779216],\n",
    "       [ 0.17271876,  0.4487906 ,  0.55788532],\n",
    "       [ 0.17117615,  0.4525298 ,  0.55796464],\n",
    "       [ 0.16964573,  0.45626209,  0.55803034],\n",
    "       [ 0.16812641,  0.45998802,  0.55808199],\n",
    "       [ 0.1666171 ,  0.46370813,  0.55811913],\n",
    "       [ 0.16511703,  0.4674229 ,  0.55814141],\n",
    "       [ 0.16362543,  0.47113278,  0.55814842],\n",
    "       [ 0.16214155,  0.47483821,  0.55813967],\n",
    "       [ 0.16066467,  0.47853961,  0.55811466],\n",
    "       [ 0.15919413,  0.4822374 ,  0.5580728 ],\n",
    "       [ 0.15772933,  0.48593197,  0.55801347],\n",
    "       [ 0.15626973,  0.4896237 ,  0.557936  ],\n",
    "       [ 0.15481488,  0.49331293,  0.55783967],\n",
    "       [ 0.15336445,  0.49700003,  0.55772371],\n",
    "       [ 0.1519182 ,  0.50068529,  0.55758733],\n",
    "       [ 0.15047605,  0.50436904,  0.55742968],\n",
    "       [ 0.14903918,  0.50805136,  0.5572505 ],\n",
    "       [ 0.14760731,  0.51173263,  0.55704861],\n",
    "       [ 0.14618026,  0.51541316,  0.55682271],\n",
    "       [ 0.14475863,  0.51909319,  0.55657181],\n",
    "       [ 0.14334327,  0.52277292,  0.55629491],\n",
    "       [ 0.14193527,  0.52645254,  0.55599097],\n",
    "       [ 0.14053599,  0.53013219,  0.55565893],\n",
    "       [ 0.13914708,  0.53381201,  0.55529773],\n",
    "       [ 0.13777048,  0.53749213,  0.55490625],\n",
    "       [ 0.1364085 ,  0.54117264,  0.55448339],\n",
    "       [ 0.13506561,  0.54485335,  0.55402906],\n",
    "       [ 0.13374299,  0.54853458,  0.55354108],\n",
    "       [ 0.13244401,  0.55221637,  0.55301828],\n",
    "       [ 0.13117249,  0.55589872,  0.55245948],\n",
    "       [ 0.1299327 ,  0.55958162,  0.55186354],\n",
    "       [ 0.12872938,  0.56326503,  0.55122927],\n",
    "       [ 0.12756771,  0.56694891,  0.55055551],\n",
    "       [ 0.12645338,  0.57063316,  0.5498411 ],\n",
    "       [ 0.12539383,  0.57431754,  0.54908564],\n",
    "       [ 0.12439474,  0.57800205,  0.5482874 ],\n",
    "       [ 0.12346281,  0.58168661,  0.54744498],\n",
    "       [ 0.12260562,  0.58537105,  0.54655722],\n",
    "       [ 0.12183122,  0.58905521,  0.54562298],\n",
    "       [ 0.12114807,  0.59273889,  0.54464114],\n",
    "       [ 0.12056501,  0.59642187,  0.54361058],\n",
    "       [ 0.12009154,  0.60010387,  0.54253043],\n",
    "       [ 0.11973756,  0.60378459,  0.54139999],\n",
    "       [ 0.11951163,  0.60746388,  0.54021751],\n",
    "       [ 0.11942341,  0.61114146,  0.53898192],\n",
    "       [ 0.11948255,  0.61481702,  0.53769219],\n",
    "       [ 0.11969858,  0.61849025,  0.53634733],\n",
    "       [ 0.12008079,  0.62216081,  0.53494633],\n",
    "       [ 0.12063824,  0.62582833,  0.53348834],\n",
    "       [ 0.12137972,  0.62949242,  0.53197275],\n",
    "       [ 0.12231244,  0.63315277,  0.53039808],\n",
    "       [ 0.12344358,  0.63680899,  0.52876343],\n",
    "       [ 0.12477953,  0.64046069,  0.52706792],\n",
    "       [ 0.12632581,  0.64410744,  0.52531069],\n",
    "       [ 0.12808703,  0.64774881,  0.52349092],\n",
    "       [ 0.13006688,  0.65138436,  0.52160791],\n",
    "       [ 0.13226797,  0.65501363,  0.51966086],\n",
    "       [ 0.13469183,  0.65863619,  0.5176488 ],\n",
    "       [ 0.13733921,  0.66225157,  0.51557101],\n",
    "       [ 0.14020991,  0.66585927,  0.5134268 ],\n",
    "       [ 0.14330291,  0.66945881,  0.51121549],\n",
    "       [ 0.1466164 ,  0.67304968,  0.50893644],\n",
    "       [ 0.15014782,  0.67663139,  0.5065889 ],\n",
    "       [ 0.15389405,  0.68020343,  0.50417217],\n",
    "       [ 0.15785146,  0.68376525,  0.50168574],\n",
    "       [ 0.16201598,  0.68731632,  0.49912906],\n",
    "       [ 0.1663832 ,  0.69085611,  0.49650163],\n",
    "       [ 0.1709484 ,  0.69438405,  0.49380294],\n",
    "       [ 0.17570671,  0.6978996 ,  0.49103252],\n",
    "       [ 0.18065314,  0.70140222,  0.48818938],\n",
    "       [ 0.18578266,  0.70489133,  0.48527326],\n",
    "       [ 0.19109018,  0.70836635,  0.48228395],\n",
    "       [ 0.19657063,  0.71182668,  0.47922108],\n",
    "       [ 0.20221902,  0.71527175,  0.47608431],\n",
    "       [ 0.20803045,  0.71870095,  0.4728733 ],\n",
    "       [ 0.21400015,  0.72211371,  0.46958774],\n",
    "       [ 0.22012381,  0.72550945,  0.46622638],\n",
    "       [ 0.2263969 ,  0.72888753,  0.46278934],\n",
    "       [ 0.23281498,  0.73224735,  0.45927675],\n",
    "       [ 0.2393739 ,  0.73558828,  0.45568838],\n",
    "       [ 0.24606968,  0.73890972,  0.45202405],\n",
    "       [ 0.25289851,  0.74221104,  0.44828355],\n",
    "       [ 0.25985676,  0.74549162,  0.44446673],\n",
    "       [ 0.26694127,  0.74875084,  0.44057284],\n",
    "       [ 0.27414922,  0.75198807,  0.4366009 ],\n",
    "       [ 0.28147681,  0.75520266,  0.43255207],\n",
    "       [ 0.28892102,  0.75839399,  0.42842626],\n",
    "       [ 0.29647899,  0.76156142,  0.42422341],\n",
    "       [ 0.30414796,  0.76470433,  0.41994346],\n",
    "       [ 0.31192534,  0.76782207,  0.41558638],\n",
    "       [ 0.3198086 ,  0.77091403,  0.41115215],\n",
    "       [ 0.3277958 ,  0.77397953,  0.40664011],\n",
    "       [ 0.33588539,  0.7770179 ,  0.40204917],\n",
    "       [ 0.34407411,  0.78002855,  0.39738103],\n",
    "       [ 0.35235985,  0.78301086,  0.39263579],\n",
    "       [ 0.36074053,  0.78596419,  0.38781353],\n",
    "       [ 0.3692142 ,  0.78888793,  0.38291438],\n",
    "       [ 0.37777892,  0.79178146,  0.3779385 ],\n",
    "       [ 0.38643282,  0.79464415,  0.37288606],\n",
    "       [ 0.39517408,  0.79747541,  0.36775726],\n",
    "       [ 0.40400101,  0.80027461,  0.36255223],\n",
    "       [ 0.4129135 ,  0.80304099,  0.35726893],\n",
    "       [ 0.42190813,  0.80577412,  0.35191009],\n",
    "       [ 0.43098317,  0.80847343,  0.34647607],\n",
    "       [ 0.44013691,  0.81113836,  0.3409673 ],\n",
    "       [ 0.44936763,  0.81376835,  0.33538426],\n",
    "       [ 0.45867362,  0.81636288,  0.32972749],\n",
    "       [ 0.46805314,  0.81892143,  0.32399761],\n",
    "       [ 0.47750446,  0.82144351,  0.31819529],\n",
    "       [ 0.4870258 ,  0.82392862,  0.31232133],\n",
    "       [ 0.49661536,  0.82637633,  0.30637661],\n",
    "       [ 0.5062713 ,  0.82878621,  0.30036211],\n",
    "       [ 0.51599182,  0.83115784,  0.29427888],\n",
    "       [ 0.52577622,  0.83349064,  0.2881265 ],\n",
    "       [ 0.5356211 ,  0.83578452,  0.28190832],\n",
    "       [ 0.5455244 ,  0.83803918,  0.27562602],\n",
    "       [ 0.55548397,  0.84025437,  0.26928147],\n",
    "       [ 0.5654976 ,  0.8424299 ,  0.26287683],\n",
    "       [ 0.57556297,  0.84456561,  0.25641457],\n",
    "       [ 0.58567772,  0.84666139,  0.24989748],\n",
    "       [ 0.59583934,  0.84871722,  0.24332878],\n",
    "       [ 0.60604528,  0.8507331 ,  0.23671214],\n",
    "       [ 0.61629283,  0.85270912,  0.23005179],\n",
    "       [ 0.62657923,  0.85464543,  0.22335258],\n",
    "       [ 0.63690157,  0.85654226,  0.21662012],\n",
    "       [ 0.64725685,  0.85839991,  0.20986086],\n",
    "       [ 0.65764197,  0.86021878,  0.20308229],\n",
    "       [ 0.66805369,  0.86199932,  0.19629307],\n",
    "       [ 0.67848868,  0.86374211,  0.18950326],\n",
    "       [ 0.68894351,  0.86544779,  0.18272455],\n",
    "       [ 0.69941463,  0.86711711,  0.17597055],\n",
    "       [ 0.70989842,  0.86875092,  0.16925712],\n",
    "       [ 0.72039115,  0.87035015,  0.16260273],\n",
    "       [ 0.73088902,  0.87191584,  0.15602894],\n",
    "       [ 0.74138803,  0.87344918,  0.14956101],\n",
    "       [ 0.75188414,  0.87495143,  0.14322828],\n",
    "       [ 0.76237342,  0.87642392,  0.13706449],\n",
    "       [ 0.77285183,  0.87786808,  0.13110864],\n",
    "       [ 0.78331535,  0.87928545,  0.12540538],\n",
    "       [ 0.79375994,  0.88067763,  0.12000532],\n",
    "       [ 0.80418159,  0.88204632,  0.11496505],\n",
    "       [ 0.81457634,  0.88339329,  0.11034678],\n",
    "       [ 0.82494028,  0.88472036,  0.10621724],\n",
    "       [ 0.83526959,  0.88602943,  0.1026459 ],\n",
    "       [ 0.84556056,  0.88732243,  0.09970219],\n",
    "       [ 0.8558096 ,  0.88860134,  0.09745186],\n",
    "       [ 0.86601325,  0.88986815,  0.09595277],\n",
    "       [ 0.87616824,  0.89112487,  0.09525046],\n",
    "       [ 0.88627146,  0.89237353,  0.09537439],\n",
    "       [ 0.89632002,  0.89361614,  0.09633538],\n",
    "       [ 0.90631121,  0.89485467,  0.09812496],\n",
    "       [ 0.91624212,  0.89609127,  0.1007168 ],\n",
    "       [ 0.92610579,  0.89732977,  0.10407067],\n",
    "       [ 0.93590444,  0.8985704 ,  0.10813094],\n",
    "       [ 0.94563626,  0.899815  ,  0.11283773],\n",
    "       [ 0.95529972,  0.90106534,  0.11812832],\n",
    "       [ 0.96489353,  0.90232311,  0.12394051],\n",
    "       [ 0.97441665,  0.90358991,  0.13021494],\n",
    "       [ 0.98386829,  0.90486726,  0.13689671],\n",
    "       [ 0.99324789,  0.90615657,  0.1439362 ]]\n",
    "\n",
    "viridis = LinearSegmentedColormap.from_list('viridis', cm_data)\n"
   ]
  },
  {
   "cell_type": "markdown",
   "metadata": {},
   "source": [
    "Here is a simple image illustrating the future `viridis` colormap:"
   ]
  },
  {
   "cell_type": "code",
   "execution_count": 3,
   "metadata": {
    "collapsed": false
   },
   "outputs": [
    {
     "data": {
      "text/plain": [
       "<matplotlib.image.AxesImage at 0x7f97f6eb92d0>"
      ]
     },
     "execution_count": 3,
     "metadata": {},
     "output_type": "execute_result"
    },
    {
     "data": {
      "image/png": "[encoded data removed]",
      "text/plain": [
       "<matplotlib.figure.Figure at 0x7f97f6ee8310>"
      ]
     },
     "metadata": {},
     "output_type": "display_data"
    }
   ],
   "source": [
    "plt.imshow(np.linspace(0, 100, 256)[None, :], aspect='auto',  cmap=viridis)   "
   ]
  },
  {
   "cell_type": "markdown",
   "metadata": {},
   "source": [
    "Now we define from the same data the `viridis`-type colorscale to be used in generation of surfaces, contour plots and heatmaps in `plotly`."
   ]
  },
  {
   "cell_type": "code",
   "execution_count": 4,
   "metadata": {
    "collapsed": false
   },
   "outputs": [],
   "source": [
    "viridisCS=[] #plotly colorscale viridis\n",
    "for k in  range(256):\n",
    "    r,g,b=cm_data[k]\n",
    "    viridisCS.append([k/255., '#%02x%02x%02x' %  (int(r*255+0.5), int(g*255+0.5), int(b*255+0.5))])"
   ]
  },
  {
   "cell_type": "code",
   "execution_count": 66,
   "metadata": {
    "collapsed": false,
    "scrolled": false
   },
   "outputs": [
    {
     "data": {
      "text/plain": [
       "[0.0, '#440154']"
      ]
     },
     "execution_count": 66,
     "metadata": {},
     "output_type": "execute_result"
    }
   ],
   "source": [
    "viridisCS[0]"
   ]
  },
  {
   "cell_type": "markdown",
   "metadata": {},
   "source": [
    "### Contour plot of a Hamiltonian###"
   ]
  },
  {
   "cell_type": "markdown",
   "metadata": {},
   "source": [
    "Define:\n",
    "\n",
    "- a function H, as the Hamiltonian of a  one degree of freedom  system:"
   ]
  },
  {
   "cell_type": "code",
   "execution_count": 68,
   "metadata": {
    "collapsed": true
   },
   "outputs": [],
   "source": [
    "H=lambda x,y: 0.5*y**2+x**3/3.0-x"
   ]
  },
  {
   "cell_type": "markdown",
   "metadata": {},
   "source": [
    "- and its partial derivatives:"
   ]
  },
  {
   "cell_type": "code",
   "execution_count": 69,
   "metadata": {
    "collapsed": true
   },
   "outputs": [],
   "source": [
    "Hx=lambda x,y: x**2-1\n",
    "Hy=lambda x,y: y"
   ]
  },
  {
   "cell_type": "markdown",
   "metadata": {},
   "source": [
    "The contour lines, $H(x,y)=cst$, are integral curves of the Hamiltonian system:\n",
    "    $$\\begin{array}{llr} \\dot{x}&=&\\frac{\\partial H}{\\partial y}\\\\\n",
    "    \\dot{y}&=&-\\frac{\\partial H}{\\partial x}\\end{array}$$"
   ]
  },
  {
   "cell_type": "markdown",
   "metadata": {},
   "source": [
    "The Hamiltonian vector field, $X_H=(H_y, -H_x)$, has two equilibria: $(-1,0), (1,0)$. The first one is  a saddle, and the second is a center\n",
    "    (see [Scholarpedia](http://www.scholarpedia.org/article/Hamiltonian_systems) for notions related to Hamiltonian systems)."
   ]
  },
  {
   "cell_type": "code",
   "execution_count": 70,
   "metadata": {
    "collapsed": false
   },
   "outputs": [],
   "source": [
    "x=np.arange(-2, 2.3, 1./50)# the step is chosen sucth that to be sure that the  separatrix is plotted\n",
    "y=np.arange(-2.3, 2.3, 1./50)  \n",
    "X,Y=np.meshgrid(x,y)\n",
    "z=H(X,Y)"
   ]
  },
  {
   "cell_type": "code",
   "execution_count": 71,
   "metadata": {
    "collapsed": true
   },
   "outputs": [],
   "source": [
    "import plotly.plotly as py\n",
    "import plotly.tools as tls\n",
    "from plotly.graph_objs import *"
   ]
  },
  {
   "cell_type": "code",
   "execution_count": 73,
   "metadata": {
    "collapsed": false
   },
   "outputs": [
    {
     "data": {
      "text/html": [
       "<iframe id=\"igraph\" scrolling=\"no\" style=\"border:none;\"seamless=\"seamless\" src=\"https://plot.ly/~empet/1737.embed\" height=\"510\" width=\"100%\"></iframe>"
      ],
      "text/plain": [
       "<plotly.tools.PlotlyDisplay object>"
      ]
     },
     "execution_count": 73,
     "metadata": {},
     "output_type": "execute_result"
    }
   ],
   "source": [
    "title=\"Viridis type colorscale in Plotly. <br>  Contour plot of a Hamiltonian\"\n",
    "data = Data([\n",
    "    Contour(\n",
    "        z=z,# Attn z is 2D\n",
    "        x=x, #x, and y are 1D  \n",
    "        y=y,\n",
    "        autocontour=False,\n",
    "        contours=Contours(\n",
    "            showlines=False,    \n",
    "            start=-2.0/3,\n",
    "            end=5.0/3,\n",
    "            size=1.0/3\n",
    "        ),    \n",
    "        colorscale=viridisCS, \n",
    "    ),\n",
    "    ])\n",
    "layout = Layout(\n",
    "    title= title,  \n",
    "    font= Font(family='Georgia, serif',  color='#635F5D'),\n",
    "    showlegend=False,\n",
    "    autosize=False,\n",
    "    width=600,\n",
    "    height=500,\n",
    "    xaxis=XAxis(\n",
    "        range=[-2,2.3],\n",
    "        nticks=9\n",
    "    ),\n",
    "    yaxis=YAxis(\n",
    "        range=[-2.3,2.3],\n",
    "        nticks=9\n",
    "    ),\n",
    "    margin=Margin(\n",
    "        l=40,\n",
    "        r=40,\n",
    "        b=85,\n",
    "        t=100,\n",
    "        pad=0,\n",
    "        autoexpand=True\n",
    "    ),\n",
    "    )\n",
    "fig = Figure(data=data, layout=layout)\n",
    "py.sign_in('empet', 'my_api_key')\n",
    "py.iplot(fig, filename='Contourplot-with-viridis-colorscale', height=510)"
   ]
  },
  {
   "cell_type": "code",
   "execution_count": 74,
   "metadata": {
    "collapsed": false
   },
   "outputs": [
    {
     "data": {
      "text/html": [
       "<iframe id=\"igraph\" scrolling=\"no\" style=\"border:none;\"seamless=\"seamless\" src=\"https://plot.ly/~empet/2594.embed\" height=\"510\" width=\"100%\"></iframe>"
      ],
      "text/plain": [
       "<plotly.tools.PlotlyDisplay object>"
      ]
     },
     "execution_count": 74,
     "metadata": {},
     "output_type": "execute_result"
    }
   ],
   "source": [
    "title=\"Viridis type colorscale in Plotly. <br>  Heatmap for  a Hamiltonian\"\n",
    "data = Data([\n",
    "    Heatmap(\n",
    "        z=z,#  z is 2D\n",
    "        x=x, #x, and y are 1D  \n",
    "        y=y,  \n",
    "        colorscale=viridisCS, \n",
    "        #zsmooth='best', \n",
    "        opacity=0.9    \n",
    "    ),\n",
    "    ])\n",
    "layout = Layout(\n",
    "    title= title,  \n",
    "    font= Font(family='Georgia, serif',  color='#635F5D'),\n",
    "    showlegend=False,\n",
    "    autosize=False,\n",
    "    width=600,\n",
    "    height=500,\n",
    "    xaxis=XAxis(\n",
    "        range=[-2,2.3],\n",
    "        nticks=9,\n",
    "        showline=False,\n",
    "        zeroline=False\n",
    "    ),\n",
    "    yaxis=YAxis(\n",
    "        range=[-2.3,2.3],\n",
    "        nticks=9,\n",
    "        showline=False,\n",
    "        zeroline=False\n",
    "    ),\n",
    "    margin=Margin(\n",
    "        l=40,\n",
    "        r=40,\n",
    "        b=85,\n",
    "        t=100,\n",
    "        pad=0,\n",
    "        autoexpand=True\n",
    "    ),\n",
    "    )\n",
    "fig = Figure(data=data, layout=layout)\n",
    "py.sign_in('empet', 'my_api_key')\n",
    "py.iplot(fig, filename='Heatmap-with-viridis-colorscale', height=510)"
   ]
  },
  {
   "cell_type": "markdown",
   "metadata": {
    "collapsed": true
   },
   "source": [
    " ### Streamlines of the Hamiltonian system defined by $H$ ###"
   ]
  },
  {
   "cell_type": "code",
   "execution_count": 75,
   "metadata": {
    "collapsed": false
   },
   "outputs": [
    {
     "data": {
      "text/html": [
       "<iframe id=\"igraph\" scrolling=\"no\" style=\"border:none;\"seamless=\"seamless\" src=\"https://plot.ly/~empet/1741.embed\" height=\"510\" width=\"100%\"></iframe>"
      ],
      "text/plain": [
       "<plotly.tools.PlotlyDisplay object>"
      ]
     },
     "execution_count": 75,
     "metadata": {},
     "output_type": "execute_result"
    }
   ],
   "source": [
    "a, b=-2,2\n",
    "c,d=-2,2\n",
    "X=np.arange(a,b, 1.0/12)\n",
    "Y=np.arange(a,b, 1.0/12)   \n",
    "Xx,Yy=np.meshgrid(X,Y)\n",
    "\n",
    "#Equilibria:\n",
    "x1, y1 = -1, 0\n",
    "x2, y2 = 1, 0 \n",
    "\n",
    "# Coordinates of the vector field:\n",
    "U = Hy(Xx,Yy)\n",
    "V = -Hx(Xx,Yy)\n",
    "\n",
    "# Create streamline\n",
    "fig = tls.FigureFactory.create_streamline(X, Y, U, V,   name='streamline')# starting with version 1.8\n",
    "\n",
    "# Add equilibria\n",
    "saddle = Scatter(x=[x1], y=[y1], \n",
    "                       mode='markers',\n",
    "                       marker=Marker(size=8, symbol='cross', color=viridisCS[50][1]),                     \n",
    "                       name='saddle')\n",
    "center = Scatter(x=[x2], y=[y2], \n",
    "                       mode='markers',\n",
    "                       marker=Marker(size=8,  color=viridisCS[175][1]),                     \n",
    "                       name='center')\n",
    "\n",
    "fig['data'].append(saddle)\n",
    "fig['data'].append(center)\n",
    "width=600\n",
    "height=500\n",
    "\n",
    "layout = Layout(\n",
    "    title='Streamlines of a Hamiltonian system with saddle-center equilibria',\n",
    "    width=width,\n",
    "    height=height,\n",
    "    xaxis=XAxis(\n",
    "        range=[a,b],\n",
    "        showline=True,\n",
    "        mirror=True,\n",
    "        autotick=True,\n",
    "        nticks=0,\n",
    "        ticks='outside',\n",
    "        showticklabels=True,\n",
    "        tick0=0,\n",
    "        dtick=1,\n",
    "        ticklen=5,\n",
    "    ),\n",
    "    yaxis=YAxis(\n",
    "        range=[c,d],\n",
    "        showgrid=False,\n",
    "        showline=True,\n",
    "        mirror=True,\n",
    "        autotick=True,\n",
    "        nticks=0,\n",
    "        ticks='outside',\n",
    "        showticklabels=True,\n",
    "        tick0=0,\n",
    "        dtick=1,\n",
    "        ticklen=5,\n",
    "    ),\n",
    "    hovermode='closest'\n",
    ")\n",
    "\n",
    "fig['layout']=layout\n",
    "py.iplot(fig, filename='Streamlines of a Hamiltonian system-N', height=510)"
   ]
  },
  {
   "cell_type": "markdown",
   "metadata": {},
   "source": [
    "### Surface plot for  $z=H(x,y)$ ###"
   ]
  },
  {
   "cell_type": "code",
   "execution_count": 77,
   "metadata": {
    "collapsed": true
   },
   "outputs": [],
   "source": [
    "x=np.arange(-2, 2, 0.1)\n",
    "y=np.arange(-2, 2, 0.1)  \n",
    "X,Y=np.meshgrid(x,y)\n",
    "z=H(X,Y)"
   ]
  },
  {
   "cell_type": "markdown",
   "metadata": {},
   "source": [
    "To plot the Surface we reduce the number of entries in the list `viridisCS`:"
   ]
  },
  {
   "cell_type": "code",
   "execution_count": 58,
   "metadata": {
    "collapsed": false
   },
   "outputs": [
    {
     "data": {
      "text/plain": [
       "[[0.0, '#440154'],\n",
       " [0.06274509803921569, '#48186a'],\n",
       " [0.12549019607843137, '#472d7b'],\n",
       " [0.18823529411764706, '#424086'],\n",
       " [0.25098039215686274, '#3b528b'],\n",
       " [0.3137254901960784, '#33638d'],\n",
       " [0.3764705882352941, '#2c728e'],\n",
       " [0.4392156862745098, '#26828e'],\n",
       " [0.5019607843137255, '#21918c'],\n",
       " [0.5647058823529412, '#1fa088'],\n",
       " [0.6274509803921569, '#28ae80'],\n",
       " [0.6901960784313725, '#3fbc73'],\n",
       " [0.7529411764705882, '#5ec962'],\n",
       " [0.8156862745098039, '#84d44b'],\n",
       " [0.8784313725490196, '#addc30'],\n",
       " [0.9411764705882353, '#d8e219'],\n",
       " [1.0, '#fde725']]"
      ]
     },
     "execution_count": 58,
     "metadata": {},
     "output_type": "execute_result"
    }
   ],
   "source": [
    "I=[16*k for k in range(16)]+[255]\n",
    "viridisCS_red=[viridisCS[k] for k in I]\n",
    "viridisCS_red"
   ]
  },
  {
   "cell_type": "code",
   "execution_count": 78,
   "metadata": {
    "collapsed": true
   },
   "outputs": [],
   "source": [
    "trace = Surface(\n",
    "    z=z,  #  2d numpy array\n",
    "    x=x,  #  1d numpy array \n",
    "    y=y,   #  1d numpy array\n",
    "    colorscale=viridisCS_red\n",
    ")\n",
    "\n",
    "data = Data([trace])"
   ]
  },
  {
   "cell_type": "code",
   "execution_count": 79,
   "metadata": {
    "collapsed": false
   },
   "outputs": [
    {
     "data": {
      "text/html": [
       "<iframe id=\"igraph\" scrolling=\"no\" style=\"border:none;\"seamless=\"seamless\" src=\"https://plot.ly/~empet/1783.embed\" height=\"525\" width=\"100%\"></iframe>"
      ],
      "text/plain": [
       "<plotly.tools.PlotlyDisplay object>"
      ]
     },
     "execution_count": 79,
     "metadata": {},
     "output_type": "execute_result"
    }
   ],
   "source": [
    "axis = dict(\n",
    "    showbackground=True, \n",
    "    backgroundcolor=\"rgb(230, 230,230)\",\n",
    "    gridcolor=\"rgb(255, 255, 255)\",      \n",
    "    zerolinecolor=\"rgb(255, 255, 255)\",  \n",
    ")\n",
    "\n",
    "\n",
    "layout = Layout(\n",
    "    title='$\\\\text{Hamiltonian}\\\\ H(x,y) = y^2/2+x^3/3-x$', \n",
    "    width=600,\n",
    "    height=600,\n",
    "    scene=Scene(  \n",
    "        xaxis=XAxis(axis),\n",
    "        yaxis=YAxis(axis), \n",
    "        zaxis=ZAxis(axis)  \n",
    "    )\n",
    ")\n",
    "fig = Figure(data=data, layout=layout)\n",
    "py.iplot(fig, filename='Surface associated to the Hamiltonian')"
   ]
  },
  {
   "cell_type": "code",
   "execution_count": 1,
   "metadata": {
    "collapsed": false
   },
   "outputs": [
    {
     "data": {
      "text/html": [
       "<style>\n",
       "    /*body {\n",
       "        background-color: #F5F5F5;\n",
       "    }*/\n",
       "    div.cell{\n",
       "        width: 900px;\n",
       "        margin-left: 13% !important;\n",
       "        margin-right: auto;\n",
       "    }\n",
       "    #notebook li { /* More space between bullet points */\n",
       "    margin-top:0.8em;\n",
       "    }\n",
       "\n",
       "    h1 {\n",
       "        font-family: 'Alegreya Sans', sans-serif;\n",
       "    }\n",
       "    .text_cell_render h1 {\n",
       "        font-weight: 200;\n",
       "        font-size: 40pt;\n",
       "        line-height: 100%;\n",
       "        color: rgb(8, 66, 133);\n",
       "        margin-bottom: 0em;\n",
       "        margin-top: 0em;\n",
       "        display: block;\n",
       "    }\n",
       "    h2 {\n",
       "        font-family: 'Fenix', serif;\n",
       "        text-indent:1em;\n",
       "        text-align:center;\n",
       "    }\n",
       "    .text_cell_render h2 {\n",
       "        font-weight: 200;\n",
       "        font-size: 28pt;\n",
       "        line-height: 100%;\n",
       "        color: rgb(8, 66, 133);\n",
       "        margin-bottom: 1.5em;\n",
       "        margin-top: 0.5em;\n",
       "        display: block;\n",
       "    }\n",
       "    h3 {\n",
       "        font-family: 'Fenix', serif;\n",
       "        %margin-top:12px;\n",
       "        %margin-bottom: 3px;\n",
       "    }\n",
       "    .text_cell_render h3 {\n",
       "        font-weight: 300;\n",
       "        font-size: 18pt;\n",
       "        line-height: 100%;\n",
       "        color: rgb(8, 66, 133);\n",
       "        margin-bottom: 0.5em;\n",
       "        margin-top: 2em;\n",
       "        display: block;\n",
       "    }\n",
       "    h4 {\n",
       "        font-family: 'Fenix', serif;\n",
       "    }\n",
       "    .text_cell_render h4 {\n",
       "        font-weight: 300;\n",
       "        font-size: 16pt;\n",
       "        color: rgb(8, 66, 133);\n",
       "        margin-bottom: 0.5em;\n",
       "        margin-top: 0.5em;\n",
       "        display: block;\n",
       "    }\n",
       "    h5 {\n",
       "        font-family: 'Alegreya Sans', sans-serif;\n",
       "    }\n",
       "    .text_cell_render h5 {\n",
       "        font-weight: 300;\n",
       "        font-style: normal;\n",
       "        font-size: 16pt;\n",
       "        margin-bottom: 0em;\n",
       "        margin-top: 1.5em;\n",
       "        display: block;\n",
       "        }\n",
       "    div.text_cell_render{\n",
       "        font-family: 'Alegreya Sans',Computer Modern, \"Helvetica Neue\", Arial, Helvetica, Geneva, sans-serif;\n",
       "        line-height: 145%;\n",
       "        font-size: 130%;\n",
       "        width:900px;\n",
       "        margin-left:auto;\n",
       "        margin-right:auto;\n",
       "        %text-align:justify;\n",
       "        %text-justify:inter-word;\n",
       "    }\n",
       "    \n",
       "    \n",
       "    code{\n",
       "      font-size: 78%;\n",
       "    }\n",
       "    .rendered_html code{\n",
       "        background-color: transparent;\n",
       "        white-space: inherit;   \n",
       "    }\n",
       "    .prompt{\n",
       "        display: None;\n",
       "     }\n",
       "    .rendered_html code{\n",
       "    background-color: transparent;\n",
       "    }\n",
       "\n",
       "    blockquote{\n",
       "      display:block;\n",
       "      background: #f3f3f3;\n",
       "      font-family: \"Open sans\",verdana,arial,sans-serif;\n",
       "      width:610px;\n",
       "      padding: 15px 15px 15px 15px;\n",
       "      text-align:justify;\n",
       "      text-justify:inter-word;\n",
       "      }\n",
       "      blockquote p {\n",
       "        margin-bottom: 0;\n",
       "        line-height: 125%;\n",
       "        font-size: 100%;\n",
       "      }\n",
       "   /* element.style {\n",
       "    } */\n",
       "</style>\n",
       "<script>\n",
       "    MathJax.Hub.Config({\n",
       "                        TeX: {\n",
       "                           extensions: [\"AMSmath.js\"]\n",
       "                           },\n",
       "                tex2jax: {\n",
       "                    inlineMath: [ [\"$\",\"$\"], [\"\\\\(\",\"\\\\)\"] ],\n",
       "                    displayMath: [ [\"$$\",\"$$\"], [\"\\\\[\",\"\\\\]\"] ]\n",
       "                },\n",
       "                displayAlign: \"center\", // Change this to \"center\" to center equations.\n",
       "                \"HTML-CSS\": {\n",
       "                    styles: {\".MathJax_Display\": {\"margin\": 4}}\n",
       "                }\n",
       "        });\n",
       "</script>\n"
      ],
      "text/plain": [
       "<IPython.core.display.HTML object>"
      ]
     },
     "execution_count": 1,
     "metadata": {},
     "output_type": "execute_result"
    }
   ],
   "source": [
    "from IPython.core.display import HTML\n",
    "def  css_styling():\n",
    "    styles = open(\"./custom.css\", \"r\").read()\n",
    "    return HTML(styles)\n",
    "css_styling()"
   ]
  }
 ],
 "metadata": {
  "kernelspec": {
   "display_name": "Python 2",
   "language": "python",
   "name": "python2"
  },
  "language_info": {
   "codemirror_mode": {
    "name": "ipython",
    "version": 2
   },
   "file_extension": ".py",
   "mimetype": "text/x-python",
   "name": "python",
   "nbconvert_exporter": "python",
   "pygments_lexer": "ipython2",
   "version": "2.7.9"
  }
 },
 "nbformat": 4,
 "nbformat_minor": 0
}
