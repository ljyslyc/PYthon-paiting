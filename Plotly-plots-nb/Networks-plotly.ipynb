{
 "cells": [
  {
   "cell_type": "markdown",
   "metadata": {},
   "source": [
    "## Networks with Plotly ##"
   ]
  },
  {
   "cell_type": "markdown",
   "metadata": {},
   "source": [
    "In this notebook we illustrate how to generate planar graphs/networks in Plotly, defined as `Graph` objects \n",
    "in [`networkx`](https://networkx.github.io/)."
   ]
  },
  {
   "cell_type": "markdown",
   "metadata": {},
   "source": [
    "The Plotly  objects defined in this notebook have some attributes introduced only starting with  the Plotly 1.8.6."
   ]
  },
  {
   "cell_type": "markdown",
   "metadata": {},
   "source": [
    "### Planar graphs defined by the lists of nodes and edges ###"
   ]
  },
  {
   "cell_type": "code",
   "execution_count": 2,
   "metadata": {
    "collapsed": false
   },
   "outputs": [],
   "source": [
    "import networkx as nx"
   ]
  },
  {
   "cell_type": "code",
   "execution_count": 3,
   "metadata": {
    "collapsed": false
   },
   "outputs": [],
   "source": [
    "G=nx.Graph()#  G is an empty Graph"
   ]
  },
  {
   "cell_type": "code",
   "execution_count": 4,
   "metadata": {
    "collapsed": false
   },
   "outputs": [],
   "source": [
    "Nodes=range(9)\n",
    "G.add_nodes_from(Nodes)\n",
    "Edges=[(0,1), (0,2), (1,3), (1,4), (1,7), (2,5), (2,8), (3, 4), (3,5),(4,6), (4,7), (4,8), (5,7)]\n",
    "G.add_edges_from(Edges)\n",
    "G.add_edge(6,8)"
   ]
  },
  {
   "cell_type": "markdown",
   "metadata": {},
   "source": [
    "Graphs are drawn using various layouts. The default layout is `spring_layout`. Other common layouts are\n",
    "`spectral_layout`,  `fruchterman_reingold_layout` (for more details see \n",
    "[here](https://networkx.github.io/documentation/latest/_modules/networkx/drawing/layout.html)). "
   ]
  },
  {
   "cell_type": "markdown",
   "metadata": {},
   "source": [
    "In order to plot a `Graph` with Python Plotly we extract the node positions calling the layout function, `nx.name_layout(G)`."
   ]
  },
  {
   "cell_type": "markdown",
   "metadata": {},
   "source": [
    "Position is a dictionary having as keys the node indices and as values the coordinates assigned to nodes by the layout  algorithm:"
   ]
  },
  {
   "cell_type": "code",
   "execution_count": 6,
   "metadata": {
    "collapsed": false
   },
   "outputs": [
    {
     "name": "stdout",
     "output_type": "stream",
     "text": [
      "{0: array([ 0.05778792,  0.        ]), 1: array([ 0.02296447,  0.5083251 ]), 2: array([ 0.4976912 ,  0.08608332]), 3: array([ 0.        ,  0.78987127]), 4: array([ 0.50350874,  0.74679982]), 5: array([ 0.27187797,  0.476265  ]), 6: array([ 1.        ,  0.79157307]), 7: array([ 0.2210117 ,  0.89440326]), 8: array([ 0.85377665,  0.43007917])}\n"
     ]
    }
   ],
   "source": [
    "pos1=nx.spring_layout(G)\n",
    "print pos1"
   ]
  },
  {
   "cell_type": "code",
   "execution_count": 7,
   "metadata": {
    "collapsed": false
   },
   "outputs": [
    {
     "name": "stdout",
     "output_type": "stream",
     "text": [
      "{0: array([ 0.        ,  0.91005414]), 1: array([ 0.18943709,  0.22856717]), 2: array([ 0.24577346,  0.7128032 ]), 3: array([ 0.22829568,  0.        ]), 4: array([ 0.51022695,  0.18469614]), 5: array([ 0.14790551,  0.12247499]), 6: array([ 1.        ,  0.40985771]), 7: array([  2.28295680e-01,   2.51522722e-16]), 8: array([ 0.73123327,  0.53372517])}\n"
     ]
    }
   ],
   "source": [
    "pos2=nx.spectral_layout(G)\n",
    "print pos2"
   ]
  },
  {
   "cell_type": "markdown",
   "metadata": {},
   "source": [
    "Spring layout and Fruchterman Reingold layout algorithms start with  random positions of nodes. That is why two consecutive calls of the  corresponding function return different node positions for the same graph.\n",
    "\n",
    "To illustrate non-uniqueness of positions  we call again the  function `nx.spring_layout()` for G:"
   ]
  },
  {
   "cell_type": "code",
   "execution_count": 8,
   "metadata": {
    "collapsed": false
   },
   "outputs": [
    {
     "name": "stdout",
     "output_type": "stream",
     "text": [
      "{0: array([ 0.55271388,  1.        ]), 1: array([ 0.81184324,  0.58139772]), 2: array([ 0.18794049,  0.78577442]), 3: array([ 0.77581885,  0.15018096]), 4: array([ 0.45893696,  0.1967814 ]), 5: array([ 0.56323739,  0.52161378]), 6: array([ 0.0494129,  0.       ]), 7: array([ 0.93248766,  0.33947602]), 8: array([ 0.        ,  0.35521613])}\n"
     ]
    }
   ],
   "source": [
    "pos3=nx.spring_layout(G)\n",
    "print pos3"
   ]
  },
  {
   "cell_type": "markdown",
   "metadata": {},
   "source": [
    "Spectral layout algorithm returns a unique  position at each call for a given graph.\n"
   ]
  },
  {
   "cell_type": "markdown",
   "metadata": {},
   "source": [
    " The Plotly plot of a graph involves the `Graph` nodes and edges,  node positions associated by a chosen layout function, and  the attributes of nodes and   edges  defined as Plotly `Scatter` traces of type (mode) marker, respectively line. \n"
   ]
  },
  {
   "cell_type": "code",
   "execution_count": 5,
   "metadata": {
    "collapsed": true
   },
   "outputs": [],
   "source": [
    "import plotly.plotly as py\n",
    "from plotly.graph_objs import *"
   ]
  },
  {
   "cell_type": "markdown",
   "metadata": {},
   "source": [
    "The function `scatter_nodes` sets the position of nodes and their attributes:"
   ]
  },
  {
   "cell_type": "code",
   "execution_count": 6,
   "metadata": {
    "collapsed": false
   },
   "outputs": [],
   "source": [
    "def scatter_nodes(pos, labels=None, color=None, size=20, opacity=1):\n",
    "    # pos is the dict of node positions\n",
    "    # labels is a list  of labels of len(pos), to be displayed when hovering the mouse over the nodes\n",
    "    # color is the color for nodes. When it is set as None the Plotly default color is used\n",
    "    # size is the size of the dots representing the nodes\n",
    "    #opacity is a value between [0,1] defining the node color opacity\n",
    "    L=len(pos)\n",
    "    trace = Scatter(x=[], y=[],  mode='markers', marker=Marker(size=[]))\n",
    "    for k in range(L):\n",
    "        trace['x'].append(pos[k][0])\n",
    "        trace['y'].append(pos[k][1])\n",
    "    attrib=dict(name='', text=labels , hoverinfo='text', opacity=opacity) # a dict of Plotly node attributes\n",
    "    trace=dict(trace, **attrib)# concatenate the dict trace and attrib\n",
    "    trace['marker']['size']=size\n",
    "    if color is not None:\n",
    "        trace['marker']['color']=color\n",
    "    return trace       "
   ]
  },
  {
   "cell_type": "markdown",
   "metadata": {},
   "source": [
    "The node coordinates are displayed by Plotly by default when hovering the mouse over the node. Because these coordinates have no relevance in the network analysis\n",
    "we hide them  setting `hoverinfo` as 'text'. In the function above text is the list of  node labels."
   ]
  },
  {
   "cell_type": "markdown",
   "metadata": {},
   "source": [
    "The function `scatter_edges` defines the Graph edges as a Scatter Plotly trace. \n",
    "\n",
    "`hoverinfo` is set  as 'none', because otherwise hovering the mouse over the points of coordinates $(x,y)$, i.e. over the nodes, their coordinates are displayed."
   ]
  },
  {
   "cell_type": "code",
   "execution_count": 7,
   "metadata": {
    "collapsed": false
   },
   "outputs": [],
   "source": [
    "def scatter_edges(G, pos, line_color=None, line_width=1):\n",
    "    trace = Scatter(x=[], y=[], mode='lines')\n",
    "    for edge in G.edges():\n",
    "        trace['x'] += [pos[edge[0]][0],pos[edge[1]][0], None]\n",
    "        trace['y'] += [pos[edge[0]][1],pos[edge[1]][1], None]  \n",
    "        trace['hoverinfo']='none'\n",
    "        trace['line']['width']=line_width\n",
    "        if line_color is not None: # when it is None a default Plotly color is used\n",
    "            trace['line']['color']=line_color\n",
    "    return trace            "
   ]
  },
  {
   "cell_type": "markdown",
   "metadata": {},
   "source": [
    "Let us plot the `Graph`, $G$,  defined above using node positions assigned by Fruchterman Reingold layout algorithm:"
   ]
  },
  {
   "cell_type": "code",
   "execution_count": 9,
   "metadata": {
    "collapsed": false
   },
   "outputs": [],
   "source": [
    "pos=nx.fruchterman_reingold_layout(G)   "
   ]
  },
  {
   "cell_type": "code",
   "execution_count": 10,
   "metadata": {
    "collapsed": false
   },
   "outputs": [],
   "source": [
    "labels=[str(k)  for k in range(len(pos))] # labels are  set as the nodes indices in the list of nodes\n",
    "trace1=scatter_edges(G, pos)\n",
    "trace2=scatter_nodes(pos, labels=labels)"
   ]
  },
  {
   "cell_type": "markdown",
   "metadata": {},
   "source": [
    "Settings for Plotly layout of the plot:"
   ]
  },
  {
   "cell_type": "code",
   "execution_count": 11,
   "metadata": {
    "collapsed": false
   },
   "outputs": [],
   "source": [
    "width=500\n",
    "height=500\n",
    "axis=dict(showline=False, # hide axis line, grid, ticklabels and  title\n",
    "          zeroline=False,\n",
    "          showgrid=False,\n",
    "          showticklabels=False,\n",
    "          title='' \n",
    "          )\n",
    "layout=Layout(title= 'Fruchterman Reingold  layout',  \n",
    "    font= Font(),\n",
    "    showlegend=False,\n",
    "    autosize=False,\n",
    "    width=width,\n",
    "    height=height,\n",
    "    xaxis=XAxis(axis),\n",
    "    yaxis=YAxis(axis),\n",
    "    margin=Margin(\n",
    "        l=40,\n",
    "        r=40,\n",
    "        b=85,\n",
    "        t=100,\n",
    "        pad=0,\n",
    "       \n",
    "    ),\n",
    "    hovermode='closest',\n",
    "    plot_bgcolor='#EFECEA', #set background color            \n",
    "    )\n",
    "\n",
    "data=Data([trace1, trace2])\n",
    "fig = Figure(data=data, layout=layout)"
   ]
  },
  {
   "cell_type": "markdown",
   "metadata": {},
   "source": [
    "To get  a good looking  graph it is recommended to define data as a list having  the first element the trace corresponding to edges, \n",
    "and the second the trace for\n",
    " nodes. Otherwise the lines will be traced over  the node dots."
   ]
  },
  {
   "cell_type": "markdown",
   "metadata": {},
   "source": [
    "If we want to annotate the nodes  we should update the layout with the corresponding annotations. The function below defines the annotations:"
   ]
  },
  {
   "cell_type": "code",
   "execution_count": 12,
   "metadata": {
    "collapsed": true
   },
   "outputs": [],
   "source": [
    "def make_annotations(pos, text, font_size=14, font_color='rgb(25,25,25)'):\n",
    "    L=len(pos)\n",
    "    if len(text)!=L:\n",
    "        raise ValueError('The lists pos and text must have the same len')\n",
    "    annotations = Annotations()\n",
    "    for k in range(L):\n",
    "        annotations.append(\n",
    "            Annotation(\n",
    "                text=text[k], \n",
    "                x=pos[k][0], y=pos[k][1],\n",
    "                xref='x1', yref='y1',\n",
    "                font=dict(color= font_color, size=font_size),\n",
    "                showarrow=False)\n",
    "        )\n",
    "    return annotations  "
   ]
  },
  {
   "cell_type": "code",
   "execution_count": 17,
   "metadata": {
    "collapsed": false
   },
   "outputs": [
    {
     "data": {
      "text/html": [
       "<iframe id=\"igraph\" scrolling=\"no\" style=\"border:none;\"seamless=\"seamless\" src=\"https://plot.ly/~empet/7812.embed\" height=\"500px\" width=\"500px\"></iframe>"
      ],
      "text/plain": [
       "<plotly.tools.PlotlyDisplay object>"
      ]
     },
     "execution_count": 17,
     "metadata": {},
     "output_type": "execute_result"
    }
   ],
   "source": [
    "fig['layout'].update(annotations=make_annotations(pos, [str(k) for k in range(len(pos))]))  \n",
    "py.sign_in('empet', '')\n",
    "py.iplot(fig, filename='Network-12')"
   ]
  },
  {
   "cell_type": "markdown",
   "metadata": {},
   "source": [
    "## Network defined by adjacency matrix ##"
   ]
  },
  {
   "cell_type": "code",
   "execution_count": 13,
   "metadata": {
    "collapsed": true
   },
   "outputs": [],
   "source": [
    "import numpy as np"
   ]
  },
  {
   "cell_type": "code",
   "execution_count": 14,
   "metadata": {
    "collapsed": false
   },
   "outputs": [],
   "source": [
    "Ad=np.array([[0,1,1,1,0,0,0,1], # Adjacency matrix\n",
    "             [1,0,1,0,1,1,1,0],\n",
    "             [1,1,0,0,0,0,1,1],\n",
    "             [1,0,0,0,1,1,1,1],\n",
    "             [0,1,0,1,0,1,1,0],\n",
    "             [0,1,0,1,1,0,1,0],\n",
    "             [0,1,1,1,1,1,0,1],\n",
    "             [1,0,1,1,0,0,1,0]], dtype=float)\n",
    "Gr=nx.from_numpy_matrix(Ad)"
   ]
  },
  {
   "cell_type": "code",
   "execution_count": 15,
   "metadata": {
    "collapsed": true
   },
   "outputs": [],
   "source": [
    "position=nx.spring_layout(Gr)"
   ]
  },
  {
   "cell_type": "markdown",
   "metadata": {},
   "source": [
    "Interpreting the graph as a friendship graph, we set its labels \n",
    "as being the friend names:"
   ]
  },
  {
   "cell_type": "code",
   "execution_count": 16,
   "metadata": {
    "collapsed": true
   },
   "outputs": [],
   "source": [
    "labels=['Fred', 'Alice', 'Bob', 'Anna', 'Frida', 'Andrew', 'Jack', 'Maria']"
   ]
  },
  {
   "cell_type": "code",
   "execution_count": 17,
   "metadata": {
    "collapsed": false
   },
   "outputs": [],
   "source": [
    "traceE=scatter_edges(Gr, position)\n",
    "traceN=scatter_nodes(position, labels=labels)"
   ]
  },
  {
   "cell_type": "markdown",
   "metadata": {},
   "source": [
    "Now we update the above  layout of the plot with information on the new graph:"
   ]
  },
  {
   "cell_type": "code",
   "execution_count": 25,
   "metadata": {
    "collapsed": false
   },
   "outputs": [
    {
     "data": {
      "text/html": [
       "<iframe id=\"igraph\" scrolling=\"no\" style=\"border:none;\"seamless=\"seamless\" src=\"https://plot.ly/~empet/7902.embed\" height=\"500px\" width=\"500px\"></iframe>"
      ],
      "text/plain": [
       "<plotly.tools.PlotlyDisplay object>"
      ]
     },
     "execution_count": 25,
     "metadata": {},
     "output_type": "execute_result"
    }
   ],
   "source": [
    "layout.update(title='Friendship Network')\n",
    "data1=Data([traceE, traceN])\n",
    "fig = Figure(data=data1, layout=layout)\n",
    "fig['layout'].update(annotations=make_annotations(position, [str(k) for k in range(len(position))]))  \n",
    "py.iplot(fig, filename='Network-2N')"
   ]
  },
  {
   "cell_type": "code",
   "execution_count": 26,
   "metadata": {
    "collapsed": false
   },
   "outputs": [
    {
     "data": {
      "text/html": [
       "<style>\n",
       "    /*body {\n",
       "        background-color: #F5F5F5;\n",
       "    }*/\n",
       "    div.cell{\n",
       "        width: 900px;\n",
       "        margin-left: 13% !important;\n",
       "        margin-right: auto;\n",
       "    }\n",
       "    #notebook li { /* More space between bullet points */\n",
       "    margin-top:0.8em;\n",
       "    }\n",
       "\n",
       "    h1 {\n",
       "        font-family: 'Alegreya Sans', sans-serif;\n",
       "    }\n",
       "    .text_cell_render h1 {\n",
       "        font-weight: 200;\n",
       "        font-size: 40pt;\n",
       "        line-height: 100%;\n",
       "        color: rgb(8, 66, 133);\n",
       "        margin-bottom: 0em;\n",
       "        margin-top: 0em;\n",
       "        display: block;\n",
       "    }\n",
       "    h2 {\n",
       "        font-family: 'Fenix', serif;\n",
       "        text-indent:1em;\n",
       "        text-align:center;\n",
       "    }\n",
       "    .text_cell_render h2 {\n",
       "        font-weight: 200;\n",
       "        font-size: 28pt;\n",
       "        line-height: 100%;\n",
       "        color: rgb(8, 66, 133);\n",
       "        margin-bottom: 1.5em;\n",
       "        margin-top: 0.5em;\n",
       "        display: block;\n",
       "    }\n",
       "    h3 {\n",
       "        font-family: 'Fenix', serif;\n",
       "        %margin-top:12px;\n",
       "        %margin-bottom: 3px;\n",
       "    }\n",
       "    .text_cell_render h3 {\n",
       "        font-weight: 300;\n",
       "        font-size: 18pt;\n",
       "        line-height: 100%;\n",
       "        color: rgb(8, 66, 133);\n",
       "        margin-bottom: 0.5em;\n",
       "        margin-top: 2em;\n",
       "        display: block;\n",
       "    }\n",
       "    h4 {\n",
       "        font-family: 'Fenix', serif;\n",
       "    }\n",
       "    .text_cell_render h4 {\n",
       "        font-weight: 300;\n",
       "        font-size: 16pt;\n",
       "        color: rgb(8, 66, 133);\n",
       "        margin-bottom: 0.5em;\n",
       "        margin-top: 0.5em;\n",
       "        display: block;\n",
       "    }\n",
       "    h5 {\n",
       "        font-family: 'Alegreya Sans', sans-serif;\n",
       "    }\n",
       "    .text_cell_render h5 {\n",
       "        font-weight: 300;\n",
       "        font-style: normal;\n",
       "        font-size: 16pt;\n",
       "        margin-bottom: 0em;\n",
       "        margin-top: 1.5em;\n",
       "        display: block;\n",
       "        }\n",
       "    div.text_cell_render{\n",
       "        font-family: 'Alegreya Sans',Computer Modern, \"Helvetica Neue\", Arial, Helvetica, Geneva, sans-serif;\n",
       "        line-height: 145%;\n",
       "        font-size: 130%;\n",
       "        width:900px;\n",
       "        margin-left:auto;\n",
       "        margin-right:auto;\n",
       "        %text-align:justify;\n",
       "        %text-justify:inter-word;\n",
       "    }\n",
       "    \n",
       "    \n",
       "    code{\n",
       "      font-size: 78%;\n",
       "    }\n",
       "    .rendered_html code{\n",
       "        background-color: transparent;\n",
       "        white-space: inherit;   \n",
       "    }\n",
       "    .prompt{\n",
       "        display: None;\n",
       "     }\n",
       "    .rendered_html code{\n",
       "    background-color: transparent;\n",
       "    }\n",
       "\n",
       "    blockquote{\n",
       "      display:block;\n",
       "      background: #f3f3f3;\n",
       "      font-family: \"Open sans\",verdana,arial,sans-serif;\n",
       "      width:610px;\n",
       "      padding: 15px 15px 15px 15px;\n",
       "      text-align:justify;\n",
       "      text-justify:inter-word;\n",
       "      }\n",
       "      blockquote p {\n",
       "        margin-bottom: 0;\n",
       "        line-height: 125%;\n",
       "        font-size: 100%;\n",
       "      }\n",
       "   /* element.style {\n",
       "    } */\n",
       "</style>\n",
       "<script>\n",
       "    MathJax.Hub.Config({\n",
       "                        TeX: {\n",
       "                           extensions: [\"AMSmath.js\"]\n",
       "                           },\n",
       "                tex2jax: {\n",
       "                    inlineMath: [ [\"$\",\"$\"], [\"\\\\(\",\"\\\\)\"] ],\n",
       "                    displayMath: [ [\"$$\",\"$$\"], [\"\\\\[\",\"\\\\]\"] ]\n",
       "                },\n",
       "                displayAlign: \"center\", // Change this to \"center\" to center equations.\n",
       "                \"HTML-CSS\": {\n",
       "                    styles: {\".MathJax_Display\": {\"margin\": 4}}\n",
       "                }\n",
       "        });\n",
       "</script>\n"
      ],
      "text/plain": [
       "<IPython.core.display.HTML object>"
      ]
     },
     "execution_count": 26,
     "metadata": {},
     "output_type": "execute_result"
    }
   ],
   "source": [
    "from IPython.core.display import HTML\n",
    "def  css_styling():\n",
    "    styles = open(\"./custom.css\", \"r\").read()\n",
    "    return HTML(styles)\n",
    "css_styling()"
   ]
  }
 ],
 "metadata": {
  "kernelspec": {
   "display_name": "Python 2",
   "language": "python",
   "name": "python2"
  },
  "language_info": {
   "codemirror_mode": {
    "name": "ipython",
    "version": 2
   },
   "file_extension": ".py",
   "mimetype": "text/x-python",
   "name": "python",
   "nbconvert_exporter": "python",
   "pygments_lexer": "ipython2",
   "version": "2.7.10"
  }
 },
 "nbformat": 4,
 "nbformat_minor": 0
}
